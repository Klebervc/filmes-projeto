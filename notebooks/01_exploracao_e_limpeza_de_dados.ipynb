{
 "cells": [
  {
   "cell_type": "markdown",
   "id": "7255b1fd",
   "metadata": {},
   "source": [
    "# Análise exploratória dos dados"
   ]
  },
  {
   "cell_type": "markdown",
   "id": "a98d4df7",
   "metadata": {},
   "source": [
    "## Importando as bibliotecas"
   ]
  },
  {
   "cell_type": "code",
   "execution_count": 4007,
   "id": "d339510f",
   "metadata": {},
   "outputs": [],
   "source": [
    "import pandas as pd\n",
    "import numpy as np\n",
    "import ast"
   ]
  },
  {
   "cell_type": "markdown",
   "id": "f4b14f1d",
   "metadata": {},
   "source": [
    "## Caminho para o dataset"
   ]
  },
  {
   "cell_type": "code",
   "execution_count": 4008,
   "id": "2edfa23c",
   "metadata": {},
   "outputs": [],
   "source": [
    "path_csv = '../data/raw/movies_dataset.csv'"
   ]
  },
  {
   "cell_type": "markdown",
   "id": "b5c7f950",
   "metadata": {},
   "source": [
    "## Lendo o dataset"
   ]
  },
  {
   "cell_type": "code",
   "execution_count": 4009,
   "id": "2c13a6de",
   "metadata": {},
   "outputs": [
    {
     "data": {
      "text/html": [
       "<div>\n",
       "<style scoped>\n",
       "    .dataframe tbody tr th:only-of-type {\n",
       "        vertical-align: middle;\n",
       "    }\n",
       "\n",
       "    .dataframe tbody tr th {\n",
       "        vertical-align: top;\n",
       "    }\n",
       "\n",
       "    .dataframe thead th {\n",
       "        text-align: right;\n",
       "    }\n",
       "</style>\n",
       "<table border=\"1\" class=\"dataframe\">\n",
       "  <thead>\n",
       "    <tr style=\"text-align: right;\">\n",
       "      <th></th>\n",
       "      <th>id</th>\n",
       "      <th>title</th>\n",
       "      <th>original_title</th>\n",
       "      <th>original_language</th>\n",
       "      <th>overview</th>\n",
       "      <th>tagline</th>\n",
       "      <th>budget</th>\n",
       "      <th>revenue</th>\n",
       "      <th>runtime</th>\n",
       "      <th>release_date</th>\n",
       "      <th>genres</th>\n",
       "      <th>popularity</th>\n",
       "      <th>vote_average</th>\n",
       "      <th>vote_count</th>\n",
       "    </tr>\n",
       "  </thead>\n",
       "  <tbody>\n",
       "    <tr>\n",
       "      <th>0</th>\n",
       "      <td>411405</td>\n",
       "      <td>Small Crimes</td>\n",
       "      <td>Small Crimes</td>\n",
       "      <td>en</td>\n",
       "      <td>A disgraced former cop, fresh off a six-year p...</td>\n",
       "      <td>NaN</td>\n",
       "      <td>0.0</td>\n",
       "      <td>0.0</td>\n",
       "      <td>95.0</td>\n",
       "      <td>2017-04-28</td>\n",
       "      <td>[{'id': 18, 'name': 'Drama'}, {'id': 35, 'name...</td>\n",
       "      <td>7.219022</td>\n",
       "      <td>5.8</td>\n",
       "      <td>55.0</td>\n",
       "    </tr>\n",
       "    <tr>\n",
       "      <th>1</th>\n",
       "      <td>42492</td>\n",
       "      <td>Up the Sandbox</td>\n",
       "      <td>Up the Sandbox</td>\n",
       "      <td>en</td>\n",
       "      <td>A young wife and mother, bored with day-to-day...</td>\n",
       "      <td>NaN</td>\n",
       "      <td>0.0</td>\n",
       "      <td>0.0</td>\n",
       "      <td>97.0</td>\n",
       "      <td>1972-12-21</td>\n",
       "      <td>[{'id': 18, 'name': 'Drama'}, {'id': 35, 'name...</td>\n",
       "      <td>0.138450</td>\n",
       "      <td>7.3</td>\n",
       "      <td>2.0</td>\n",
       "    </tr>\n",
       "    <tr>\n",
       "      <th>2</th>\n",
       "      <td>12143</td>\n",
       "      <td>Bad Lieutenant</td>\n",
       "      <td>Bad Lieutenant</td>\n",
       "      <td>en</td>\n",
       "      <td>While investigating a young nun's rape, a corr...</td>\n",
       "      <td>Gambler. Thief. Junkie. Killer. Cop.</td>\n",
       "      <td>1000000.0</td>\n",
       "      <td>2019469.0</td>\n",
       "      <td>96.0</td>\n",
       "      <td>1992-09-16</td>\n",
       "      <td>[{'id': 80, 'name': 'Crime'}, {'id': 18, 'name...</td>\n",
       "      <td>6.417037</td>\n",
       "      <td>6.9</td>\n",
       "      <td>162.0</td>\n",
       "    </tr>\n",
       "    <tr>\n",
       "      <th>3</th>\n",
       "      <td>9976</td>\n",
       "      <td>Satan's Little Helper</td>\n",
       "      <td>Satan's Little Helper</td>\n",
       "      <td>en</td>\n",
       "      <td>A naïve young boy unknowingly becomes the pawn...</td>\n",
       "      <td>You'll laugh 'til you die</td>\n",
       "      <td>0.0</td>\n",
       "      <td>0.0</td>\n",
       "      <td>100.0</td>\n",
       "      <td>2004-01-01</td>\n",
       "      <td>[{'id': 27, 'name': 'Horror'}, {'id': 10749, '...</td>\n",
       "      <td>2.233189</td>\n",
       "      <td>5.0</td>\n",
       "      <td>42.0</td>\n",
       "    </tr>\n",
       "    <tr>\n",
       "      <th>4</th>\n",
       "      <td>46761</td>\n",
       "      <td>Sitcom</td>\n",
       "      <td>Sitcom</td>\n",
       "      <td>fr</td>\n",
       "      <td>The adventures of an upper-class suburban fami...</td>\n",
       "      <td>NaN</td>\n",
       "      <td>0.0</td>\n",
       "      <td>0.0</td>\n",
       "      <td>80.0</td>\n",
       "      <td>1998-05-27</td>\n",
       "      <td>[{'id': 35, 'name': 'Comedy'}, {'id': 18, 'nam...</td>\n",
       "      <td>1.800582</td>\n",
       "      <td>6.4</td>\n",
       "      <td>27.0</td>\n",
       "    </tr>\n",
       "    <tr>\n",
       "      <th>...</th>\n",
       "      <td>...</td>\n",
       "      <td>...</td>\n",
       "      <td>...</td>\n",
       "      <td>...</td>\n",
       "      <td>...</td>\n",
       "      <td>...</td>\n",
       "      <td>...</td>\n",
       "      <td>...</td>\n",
       "      <td>...</td>\n",
       "      <td>...</td>\n",
       "      <td>...</td>\n",
       "      <td>...</td>\n",
       "      <td>...</td>\n",
       "      <td>...</td>\n",
       "    </tr>\n",
       "    <tr>\n",
       "      <th>4997</th>\n",
       "      <td>9803</td>\n",
       "      <td>Seven Dwarfs</td>\n",
       "      <td>7 Zwerge - Männer allein im Wald</td>\n",
       "      <td>de</td>\n",
       "      <td>The Seven Dwarves live deep within a female-fr...</td>\n",
       "      <td>NaN</td>\n",
       "      <td>0.0</td>\n",
       "      <td>0.0</td>\n",
       "      <td>95.0</td>\n",
       "      <td>2004-10-28</td>\n",
       "      <td>[{'id': 35, 'name': 'Comedy'}]</td>\n",
       "      <td>4.582736</td>\n",
       "      <td>5.2</td>\n",
       "      <td>70.0</td>\n",
       "    </tr>\n",
       "    <tr>\n",
       "      <th>4998</th>\n",
       "      <td>336970</td>\n",
       "      <td>True Siblings</td>\n",
       "      <td>Syskonsalt</td>\n",
       "      <td>sv</td>\n",
       "      <td>The siblings Linus, 19-years-old, who are taki...</td>\n",
       "      <td>NaN</td>\n",
       "      <td>0.0</td>\n",
       "      <td>0.0</td>\n",
       "      <td>58.0</td>\n",
       "      <td>2000-09-13</td>\n",
       "      <td>[{'id': 18, 'name': 'Drama'}, {'id': 10770, 'n...</td>\n",
       "      <td>2.364355</td>\n",
       "      <td>8.0</td>\n",
       "      <td>2.0</td>\n",
       "    </tr>\n",
       "    <tr>\n",
       "      <th>4999</th>\n",
       "      <td>336691</td>\n",
       "      <td>Paternity Leave</td>\n",
       "      <td>Paternity Leave</td>\n",
       "      <td>en</td>\n",
       "      <td>Four years into his first stable relationship,...</td>\n",
       "      <td>NaN</td>\n",
       "      <td>0.0</td>\n",
       "      <td>0.0</td>\n",
       "      <td>90.0</td>\n",
       "      <td>2015-11-24</td>\n",
       "      <td>[{'id': 35, 'name': 'Comedy'}, {'id': 10749, '...</td>\n",
       "      <td>0.448056</td>\n",
       "      <td>7.0</td>\n",
       "      <td>4.0</td>\n",
       "    </tr>\n",
       "    <tr>\n",
       "      <th>5000</th>\n",
       "      <td>37598</td>\n",
       "      <td>Butch and Sundance: The Early Days</td>\n",
       "      <td>Butch and Sundance: The Early Days</td>\n",
       "      <td>en</td>\n",
       "      <td>A \"prequel\" of sorts to \"Butch Cassidy and the...</td>\n",
       "      <td>Before the fame when fun was the name of the g...</td>\n",
       "      <td>0.0</td>\n",
       "      <td>0.0</td>\n",
       "      <td>115.0</td>\n",
       "      <td>1979-06-15</td>\n",
       "      <td>[{'id': 37, 'name': 'Western'}]</td>\n",
       "      <td>0.627647</td>\n",
       "      <td>4.6</td>\n",
       "      <td>8.0</td>\n",
       "    </tr>\n",
       "    <tr>\n",
       "      <th>5001</th>\n",
       "      <td>65766</td>\n",
       "      <td>Bon appétit</td>\n",
       "      <td>Bon appétit</td>\n",
       "      <td>en</td>\n",
       "      <td>A romantic comedy centered on two young cooks ...</td>\n",
       "      <td>NaN</td>\n",
       "      <td>0.0</td>\n",
       "      <td>0.0</td>\n",
       "      <td>91.0</td>\n",
       "      <td>2010-11-12</td>\n",
       "      <td>[{'id': 10749, 'name': 'Romance'}]</td>\n",
       "      <td>0.965179</td>\n",
       "      <td>5.3</td>\n",
       "      <td>8.0</td>\n",
       "    </tr>\n",
       "  </tbody>\n",
       "</table>\n",
       "<p>5002 rows × 14 columns</p>\n",
       "</div>"
      ],
      "text/plain": [
       "          id                               title  \\\n",
       "0     411405                        Small Crimes   \n",
       "1      42492                      Up the Sandbox   \n",
       "2      12143                      Bad Lieutenant   \n",
       "3       9976               Satan's Little Helper   \n",
       "4      46761                              Sitcom   \n",
       "...      ...                                 ...   \n",
       "4997    9803                        Seven Dwarfs   \n",
       "4998  336970                       True Siblings   \n",
       "4999  336691                     Paternity Leave   \n",
       "5000   37598  Butch and Sundance: The Early Days   \n",
       "5001   65766                         Bon appétit   \n",
       "\n",
       "                          original_title original_language  \\\n",
       "0                           Small Crimes                en   \n",
       "1                         Up the Sandbox                en   \n",
       "2                         Bad Lieutenant                en   \n",
       "3                  Satan's Little Helper                en   \n",
       "4                                 Sitcom                fr   \n",
       "...                                  ...               ...   \n",
       "4997    7 Zwerge - Männer allein im Wald                de   \n",
       "4998                          Syskonsalt                sv   \n",
       "4999                     Paternity Leave                en   \n",
       "5000  Butch and Sundance: The Early Days                en   \n",
       "5001                         Bon appétit                en   \n",
       "\n",
       "                                               overview  \\\n",
       "0     A disgraced former cop, fresh off a six-year p...   \n",
       "1     A young wife and mother, bored with day-to-day...   \n",
       "2     While investigating a young nun's rape, a corr...   \n",
       "3     A naïve young boy unknowingly becomes the pawn...   \n",
       "4     The adventures of an upper-class suburban fami...   \n",
       "...                                                 ...   \n",
       "4997  The Seven Dwarves live deep within a female-fr...   \n",
       "4998  The siblings Linus, 19-years-old, who are taki...   \n",
       "4999  Four years into his first stable relationship,...   \n",
       "5000  A \"prequel\" of sorts to \"Butch Cassidy and the...   \n",
       "5001  A romantic comedy centered on two young cooks ...   \n",
       "\n",
       "                                                tagline     budget    revenue  \\\n",
       "0                                                   NaN        0.0        0.0   \n",
       "1                                                   NaN        0.0        0.0   \n",
       "2                  Gambler. Thief. Junkie. Killer. Cop.  1000000.0  2019469.0   \n",
       "3                             You'll laugh 'til you die        0.0        0.0   \n",
       "4                                                   NaN        0.0        0.0   \n",
       "...                                                 ...        ...        ...   \n",
       "4997                                                NaN        0.0        0.0   \n",
       "4998                                                NaN        0.0        0.0   \n",
       "4999                                                NaN        0.0        0.0   \n",
       "5000  Before the fame when fun was the name of the g...        0.0        0.0   \n",
       "5001                                                NaN        0.0        0.0   \n",
       "\n",
       "     runtime release_date                                             genres  \\\n",
       "0       95.0   2017-04-28  [{'id': 18, 'name': 'Drama'}, {'id': 35, 'name...   \n",
       "1       97.0   1972-12-21  [{'id': 18, 'name': 'Drama'}, {'id': 35, 'name...   \n",
       "2       96.0   1992-09-16  [{'id': 80, 'name': 'Crime'}, {'id': 18, 'name...   \n",
       "3      100.0   2004-01-01  [{'id': 27, 'name': 'Horror'}, {'id': 10749, '...   \n",
       "4       80.0   1998-05-27  [{'id': 35, 'name': 'Comedy'}, {'id': 18, 'nam...   \n",
       "...      ...          ...                                                ...   \n",
       "4997    95.0   2004-10-28                     [{'id': 35, 'name': 'Comedy'}]   \n",
       "4998    58.0   2000-09-13  [{'id': 18, 'name': 'Drama'}, {'id': 10770, 'n...   \n",
       "4999    90.0   2015-11-24  [{'id': 35, 'name': 'Comedy'}, {'id': 10749, '...   \n",
       "5000   115.0   1979-06-15                    [{'id': 37, 'name': 'Western'}]   \n",
       "5001    91.0   2010-11-12                 [{'id': 10749, 'name': 'Romance'}]   \n",
       "\n",
       "      popularity  vote_average  vote_count  \n",
       "0       7.219022           5.8        55.0  \n",
       "1       0.138450           7.3         2.0  \n",
       "2       6.417037           6.9       162.0  \n",
       "3       2.233189           5.0        42.0  \n",
       "4       1.800582           6.4        27.0  \n",
       "...          ...           ...         ...  \n",
       "4997    4.582736           5.2        70.0  \n",
       "4998    2.364355           8.0         2.0  \n",
       "4999    0.448056           7.0         4.0  \n",
       "5000    0.627647           4.6         8.0  \n",
       "5001    0.965179           5.3         8.0  \n",
       "\n",
       "[5002 rows x 14 columns]"
      ]
     },
     "execution_count": 4009,
     "metadata": {},
     "output_type": "execute_result"
    }
   ],
   "source": [
    "df = pd.read_csv(path_csv, sep=',')\n",
    "df"
   ]
  },
  {
   "cell_type": "code",
   "execution_count": 4010,
   "id": "0647fbbc",
   "metadata": {},
   "outputs": [
    {
     "name": "stdout",
     "output_type": "stream",
     "text": [
      "<class 'pandas.core.frame.DataFrame'>\n",
      "RangeIndex: 5002 entries, 0 to 5001\n",
      "Data columns (total 14 columns):\n",
      " #   Column             Non-Null Count  Dtype  \n",
      "---  ------             --------------  -----  \n",
      " 0   id                 5002 non-null   int64  \n",
      " 1   title              5001 non-null   object \n",
      " 2   original_title     5002 non-null   object \n",
      " 3   original_language  5001 non-null   object \n",
      " 4   overview           4904 non-null   object \n",
      " 5   tagline            2246 non-null   object \n",
      " 6   budget             4802 non-null   float64\n",
      " 7   revenue            4851 non-null   float64\n",
      " 8   runtime            4875 non-null   object \n",
      " 9   release_date       4888 non-null   object \n",
      " 10  genres             5002 non-null   object \n",
      " 11  popularity         5001 non-null   float64\n",
      " 12  vote_average       5001 non-null   float64\n",
      " 13  vote_count         5001 non-null   float64\n",
      "dtypes: float64(5), int64(1), object(8)\n",
      "memory usage: 547.2+ KB\n"
     ]
    }
   ],
   "source": [
    "df.info()"
   ]
  },
  {
   "cell_type": "markdown",
   "id": "b60e5a81",
   "metadata": {},
   "source": [
    "## Tratando dados duplicados"
   ]
  },
  {
   "cell_type": "markdown",
   "id": "e01e1f12",
   "metadata": {},
   "source": [
    "Removeremos os dados duplicados."
   ]
  },
  {
   "cell_type": "code",
   "execution_count": 4011,
   "id": "dc9f72a4",
   "metadata": {},
   "outputs": [
    {
     "data": {
      "text/plain": [
       "0       False\n",
       "1       False\n",
       "2       False\n",
       "3       False\n",
       "4       False\n",
       "        ...  \n",
       "4997    False\n",
       "4998    False\n",
       "4999    False\n",
       "5000     True\n",
       "5001     True\n",
       "Length: 5002, dtype: bool"
      ]
     },
     "execution_count": 4011,
     "metadata": {},
     "output_type": "execute_result"
    }
   ],
   "source": [
    "df.duplicated()"
   ]
  },
  {
   "cell_type": "code",
   "execution_count": 4012,
   "id": "fa4a45f7",
   "metadata": {},
   "outputs": [
    {
     "data": {
      "text/plain": [
       "2"
      ]
     },
     "execution_count": 4012,
     "metadata": {},
     "output_type": "execute_result"
    }
   ],
   "source": [
    "df.duplicated().sum()"
   ]
  },
  {
   "cell_type": "code",
   "execution_count": 4013,
   "id": "a46b16be",
   "metadata": {},
   "outputs": [],
   "source": [
    "df.drop_duplicates(inplace=True)"
   ]
  },
  {
   "cell_type": "code",
   "execution_count": 4014,
   "id": "0b8f56d9",
   "metadata": {},
   "outputs": [
    {
     "data": {
      "text/plain": [
       "0"
      ]
     },
     "execution_count": 4014,
     "metadata": {},
     "output_type": "execute_result"
    }
   ],
   "source": [
    "df.duplicated().sum()"
   ]
  },
  {
   "cell_type": "code",
   "execution_count": 4015,
   "id": "61dba3f4",
   "metadata": {},
   "outputs": [],
   "source": [
    "df_sem_duplicado = df.copy()"
   ]
  },
  {
   "cell_type": "markdown",
   "id": "c3e7676c",
   "metadata": {},
   "source": [
    "## Tratando dados ausentes"
   ]
  },
  {
   "cell_type": "markdown",
   "id": "6c54ee85",
   "metadata": {},
   "source": [
    "Para tratar valores ausentes, vamos primeiramente mudar os registros da coluna `genres` para listas de dicionários e tranforma-los em lista com os gêneros. "
   ]
  },
  {
   "cell_type": "code",
   "execution_count": 4016,
   "id": "eec8140c",
   "metadata": {},
   "outputs": [],
   "source": [
    "df_sem_duplicado['genres'] = df_sem_duplicado['genres'].apply(ast.literal_eval)\n",
    "df_sem_duplicado['genres'] = df_sem_duplicado['genres'].apply(lambda lista: [row['name'] for row in lista])"
   ]
  },
  {
   "cell_type": "code",
   "execution_count": 4017,
   "id": "65916aaf",
   "metadata": {},
   "outputs": [
    {
     "data": {
      "text/html": [
       "<div>\n",
       "<style scoped>\n",
       "    .dataframe tbody tr th:only-of-type {\n",
       "        vertical-align: middle;\n",
       "    }\n",
       "\n",
       "    .dataframe tbody tr th {\n",
       "        vertical-align: top;\n",
       "    }\n",
       "\n",
       "    .dataframe thead th {\n",
       "        text-align: right;\n",
       "    }\n",
       "</style>\n",
       "<table border=\"1\" class=\"dataframe\">\n",
       "  <thead>\n",
       "    <tr style=\"text-align: right;\">\n",
       "      <th></th>\n",
       "      <th>id</th>\n",
       "      <th>title</th>\n",
       "      <th>original_title</th>\n",
       "      <th>original_language</th>\n",
       "      <th>overview</th>\n",
       "      <th>tagline</th>\n",
       "      <th>budget</th>\n",
       "      <th>revenue</th>\n",
       "      <th>runtime</th>\n",
       "      <th>release_date</th>\n",
       "      <th>genres</th>\n",
       "      <th>popularity</th>\n",
       "      <th>vote_average</th>\n",
       "      <th>vote_count</th>\n",
       "    </tr>\n",
       "  </thead>\n",
       "  <tbody>\n",
       "    <tr>\n",
       "      <th>0</th>\n",
       "      <td>411405</td>\n",
       "      <td>Small Crimes</td>\n",
       "      <td>Small Crimes</td>\n",
       "      <td>en</td>\n",
       "      <td>A disgraced former cop, fresh off a six-year p...</td>\n",
       "      <td>NaN</td>\n",
       "      <td>0.0</td>\n",
       "      <td>0.0</td>\n",
       "      <td>95.0</td>\n",
       "      <td>2017-04-28</td>\n",
       "      <td>[Drama, Comedy, Thriller, Crime]</td>\n",
       "      <td>7.219022</td>\n",
       "      <td>5.8</td>\n",
       "      <td>55.0</td>\n",
       "    </tr>\n",
       "    <tr>\n",
       "      <th>1</th>\n",
       "      <td>42492</td>\n",
       "      <td>Up the Sandbox</td>\n",
       "      <td>Up the Sandbox</td>\n",
       "      <td>en</td>\n",
       "      <td>A young wife and mother, bored with day-to-day...</td>\n",
       "      <td>NaN</td>\n",
       "      <td>0.0</td>\n",
       "      <td>0.0</td>\n",
       "      <td>97.0</td>\n",
       "      <td>1972-12-21</td>\n",
       "      <td>[Drama, Comedy]</td>\n",
       "      <td>0.138450</td>\n",
       "      <td>7.3</td>\n",
       "      <td>2.0</td>\n",
       "    </tr>\n",
       "    <tr>\n",
       "      <th>2</th>\n",
       "      <td>12143</td>\n",
       "      <td>Bad Lieutenant</td>\n",
       "      <td>Bad Lieutenant</td>\n",
       "      <td>en</td>\n",
       "      <td>While investigating a young nun's rape, a corr...</td>\n",
       "      <td>Gambler. Thief. Junkie. Killer. Cop.</td>\n",
       "      <td>1000000.0</td>\n",
       "      <td>2019469.0</td>\n",
       "      <td>96.0</td>\n",
       "      <td>1992-09-16</td>\n",
       "      <td>[Crime, Drama]</td>\n",
       "      <td>6.417037</td>\n",
       "      <td>6.9</td>\n",
       "      <td>162.0</td>\n",
       "    </tr>\n",
       "    <tr>\n",
       "      <th>3</th>\n",
       "      <td>9976</td>\n",
       "      <td>Satan's Little Helper</td>\n",
       "      <td>Satan's Little Helper</td>\n",
       "      <td>en</td>\n",
       "      <td>A naïve young boy unknowingly becomes the pawn...</td>\n",
       "      <td>You'll laugh 'til you die</td>\n",
       "      <td>0.0</td>\n",
       "      <td>0.0</td>\n",
       "      <td>100.0</td>\n",
       "      <td>2004-01-01</td>\n",
       "      <td>[Horror, Romance, Comedy]</td>\n",
       "      <td>2.233189</td>\n",
       "      <td>5.0</td>\n",
       "      <td>42.0</td>\n",
       "    </tr>\n",
       "    <tr>\n",
       "      <th>4</th>\n",
       "      <td>46761</td>\n",
       "      <td>Sitcom</td>\n",
       "      <td>Sitcom</td>\n",
       "      <td>fr</td>\n",
       "      <td>The adventures of an upper-class suburban fami...</td>\n",
       "      <td>NaN</td>\n",
       "      <td>0.0</td>\n",
       "      <td>0.0</td>\n",
       "      <td>80.0</td>\n",
       "      <td>1998-05-27</td>\n",
       "      <td>[Comedy, Drama, Thriller]</td>\n",
       "      <td>1.800582</td>\n",
       "      <td>6.4</td>\n",
       "      <td>27.0</td>\n",
       "    </tr>\n",
       "    <tr>\n",
       "      <th>...</th>\n",
       "      <td>...</td>\n",
       "      <td>...</td>\n",
       "      <td>...</td>\n",
       "      <td>...</td>\n",
       "      <td>...</td>\n",
       "      <td>...</td>\n",
       "      <td>...</td>\n",
       "      <td>...</td>\n",
       "      <td>...</td>\n",
       "      <td>...</td>\n",
       "      <td>...</td>\n",
       "      <td>...</td>\n",
       "      <td>...</td>\n",
       "      <td>...</td>\n",
       "    </tr>\n",
       "    <tr>\n",
       "      <th>4995</th>\n",
       "      <td>3093</td>\n",
       "      <td>Basic Instinct 2</td>\n",
       "      <td>Basic Instinct 2</td>\n",
       "      <td>en</td>\n",
       "      <td>Novelist Catherine Tramell is once again in tr...</td>\n",
       "      <td>Everything interesting begins in the mind</td>\n",
       "      <td>70000000.0</td>\n",
       "      <td>38629478.0</td>\n",
       "      <td>114.0</td>\n",
       "      <td>2006-03-29</td>\n",
       "      <td>[Crime, Mystery, Thriller]</td>\n",
       "      <td>15.321902</td>\n",
       "      <td>4.6</td>\n",
       "      <td>183.0</td>\n",
       "    </tr>\n",
       "    <tr>\n",
       "      <th>4996</th>\n",
       "      <td>246127</td>\n",
       "      <td>Every Thing Will Be Fine</td>\n",
       "      <td>Every Thing Will Be Fine</td>\n",
       "      <td>en</td>\n",
       "      <td>One day, driving aimlessly around the outskirt...</td>\n",
       "      <td>A moment. A tragic accident. And nothing will ...</td>\n",
       "      <td>0.0</td>\n",
       "      <td>8034.0</td>\n",
       "      <td>118.0</td>\n",
       "      <td>2015-04-02</td>\n",
       "      <td>[Drama]</td>\n",
       "      <td>5.723103</td>\n",
       "      <td>5.3</td>\n",
       "      <td>79.0</td>\n",
       "    </tr>\n",
       "    <tr>\n",
       "      <th>4997</th>\n",
       "      <td>9803</td>\n",
       "      <td>Seven Dwarfs</td>\n",
       "      <td>7 Zwerge - Männer allein im Wald</td>\n",
       "      <td>de</td>\n",
       "      <td>The Seven Dwarves live deep within a female-fr...</td>\n",
       "      <td>NaN</td>\n",
       "      <td>0.0</td>\n",
       "      <td>0.0</td>\n",
       "      <td>95.0</td>\n",
       "      <td>2004-10-28</td>\n",
       "      <td>[Comedy]</td>\n",
       "      <td>4.582736</td>\n",
       "      <td>5.2</td>\n",
       "      <td>70.0</td>\n",
       "    </tr>\n",
       "    <tr>\n",
       "      <th>4998</th>\n",
       "      <td>336970</td>\n",
       "      <td>True Siblings</td>\n",
       "      <td>Syskonsalt</td>\n",
       "      <td>sv</td>\n",
       "      <td>The siblings Linus, 19-years-old, who are taki...</td>\n",
       "      <td>NaN</td>\n",
       "      <td>0.0</td>\n",
       "      <td>0.0</td>\n",
       "      <td>58.0</td>\n",
       "      <td>2000-09-13</td>\n",
       "      <td>[Drama, TV Movie]</td>\n",
       "      <td>2.364355</td>\n",
       "      <td>8.0</td>\n",
       "      <td>2.0</td>\n",
       "    </tr>\n",
       "    <tr>\n",
       "      <th>4999</th>\n",
       "      <td>336691</td>\n",
       "      <td>Paternity Leave</td>\n",
       "      <td>Paternity Leave</td>\n",
       "      <td>en</td>\n",
       "      <td>Four years into his first stable relationship,...</td>\n",
       "      <td>NaN</td>\n",
       "      <td>0.0</td>\n",
       "      <td>0.0</td>\n",
       "      <td>90.0</td>\n",
       "      <td>2015-11-24</td>\n",
       "      <td>[Comedy, Romance]</td>\n",
       "      <td>0.448056</td>\n",
       "      <td>7.0</td>\n",
       "      <td>4.0</td>\n",
       "    </tr>\n",
       "  </tbody>\n",
       "</table>\n",
       "<p>5000 rows × 14 columns</p>\n",
       "</div>"
      ],
      "text/plain": [
       "          id                     title                    original_title  \\\n",
       "0     411405              Small Crimes                      Small Crimes   \n",
       "1      42492            Up the Sandbox                    Up the Sandbox   \n",
       "2      12143            Bad Lieutenant                    Bad Lieutenant   \n",
       "3       9976     Satan's Little Helper             Satan's Little Helper   \n",
       "4      46761                    Sitcom                            Sitcom   \n",
       "...      ...                       ...                               ...   \n",
       "4995    3093          Basic Instinct 2                  Basic Instinct 2   \n",
       "4996  246127  Every Thing Will Be Fine          Every Thing Will Be Fine   \n",
       "4997    9803              Seven Dwarfs  7 Zwerge - Männer allein im Wald   \n",
       "4998  336970             True Siblings                        Syskonsalt   \n",
       "4999  336691           Paternity Leave                   Paternity Leave   \n",
       "\n",
       "     original_language                                           overview  \\\n",
       "0                   en  A disgraced former cop, fresh off a six-year p...   \n",
       "1                   en  A young wife and mother, bored with day-to-day...   \n",
       "2                   en  While investigating a young nun's rape, a corr...   \n",
       "3                   en  A naïve young boy unknowingly becomes the pawn...   \n",
       "4                   fr  The adventures of an upper-class suburban fami...   \n",
       "...                ...                                                ...   \n",
       "4995                en  Novelist Catherine Tramell is once again in tr...   \n",
       "4996                en  One day, driving aimlessly around the outskirt...   \n",
       "4997                de  The Seven Dwarves live deep within a female-fr...   \n",
       "4998                sv  The siblings Linus, 19-years-old, who are taki...   \n",
       "4999                en  Four years into his first stable relationship,...   \n",
       "\n",
       "                                                tagline      budget  \\\n",
       "0                                                   NaN         0.0   \n",
       "1                                                   NaN         0.0   \n",
       "2                  Gambler. Thief. Junkie. Killer. Cop.   1000000.0   \n",
       "3                             You'll laugh 'til you die         0.0   \n",
       "4                                                   NaN         0.0   \n",
       "...                                                 ...         ...   \n",
       "4995          Everything interesting begins in the mind  70000000.0   \n",
       "4996  A moment. A tragic accident. And nothing will ...         0.0   \n",
       "4997                                                NaN         0.0   \n",
       "4998                                                NaN         0.0   \n",
       "4999                                                NaN         0.0   \n",
       "\n",
       "         revenue runtime release_date                            genres  \\\n",
       "0            0.0    95.0   2017-04-28  [Drama, Comedy, Thriller, Crime]   \n",
       "1            0.0    97.0   1972-12-21                   [Drama, Comedy]   \n",
       "2      2019469.0    96.0   1992-09-16                    [Crime, Drama]   \n",
       "3            0.0   100.0   2004-01-01         [Horror, Romance, Comedy]   \n",
       "4            0.0    80.0   1998-05-27         [Comedy, Drama, Thriller]   \n",
       "...          ...     ...          ...                               ...   \n",
       "4995  38629478.0   114.0   2006-03-29        [Crime, Mystery, Thriller]   \n",
       "4996      8034.0   118.0   2015-04-02                           [Drama]   \n",
       "4997         0.0    95.0   2004-10-28                          [Comedy]   \n",
       "4998         0.0    58.0   2000-09-13                 [Drama, TV Movie]   \n",
       "4999         0.0    90.0   2015-11-24                 [Comedy, Romance]   \n",
       "\n",
       "      popularity  vote_average  vote_count  \n",
       "0       7.219022           5.8        55.0  \n",
       "1       0.138450           7.3         2.0  \n",
       "2       6.417037           6.9       162.0  \n",
       "3       2.233189           5.0        42.0  \n",
       "4       1.800582           6.4        27.0  \n",
       "...          ...           ...         ...  \n",
       "4995   15.321902           4.6       183.0  \n",
       "4996    5.723103           5.3        79.0  \n",
       "4997    4.582736           5.2        70.0  \n",
       "4998    2.364355           8.0         2.0  \n",
       "4999    0.448056           7.0         4.0  \n",
       "\n",
       "[5000 rows x 14 columns]"
      ]
     },
     "execution_count": 4017,
     "metadata": {},
     "output_type": "execute_result"
    }
   ],
   "source": [
    "df_sem_duplicado"
   ]
  },
  {
   "cell_type": "code",
   "execution_count": 4018,
   "id": "c91bfa29",
   "metadata": {},
   "outputs": [
    {
     "data": {
      "text/plain": [
       "id                      0\n",
       "title                   1\n",
       "original_title          0\n",
       "original_language       1\n",
       "overview               98\n",
       "tagline              2755\n",
       "budget                200\n",
       "revenue               151\n",
       "runtime               127\n",
       "release_date          114\n",
       "genres                  0\n",
       "popularity              1\n",
       "vote_average            1\n",
       "vote_count              1\n",
       "dtype: int64"
      ]
     },
     "execution_count": 4018,
     "metadata": {},
     "output_type": "execute_result"
    }
   ],
   "source": [
    "df_sem_duplicado.isna().sum()"
   ]
  },
  {
   "cell_type": "markdown",
   "id": "e60db25b",
   "metadata": {},
   "source": [
    "Percebemos que a coluna `Tagline` contém mais de 50% dos registros como valores ausentes (`NaN`). Como essa coluna apenas informa uma frase promocional que é única para cada filme, ela não tem correlação com outras colunas e, já que, mais de 50% dos valores são `NaN`s, vamos retira-la do dataframe."
   ]
  },
  {
   "cell_type": "code",
   "execution_count": 4019,
   "id": "87d4f9d7",
   "metadata": {},
   "outputs": [],
   "source": [
    "df_sem_duplicado.drop(columns=['tagline'], inplace=True)"
   ]
  },
  {
   "cell_type": "code",
   "execution_count": 4020,
   "id": "69cdf161",
   "metadata": {},
   "outputs": [
    {
     "data": {
      "text/plain": [
       "Index(['id', 'title', 'original_title', 'original_language', 'overview',\n",
       "       'budget', 'revenue', 'runtime', 'release_date', 'genres', 'popularity',\n",
       "       'vote_average', 'vote_count'],\n",
       "      dtype='object')"
      ]
     },
     "execution_count": 4020,
     "metadata": {},
     "output_type": "execute_result"
    }
   ],
   "source": [
    "df_sem_duplicado.columns"
   ]
  },
  {
   "cell_type": "markdown",
   "id": "4cd0de9a",
   "metadata": {},
   "source": [
    "Nas colunas `budget` e `revenue`, notamos que pelas insformações do dataframe a maior parte dos dados são iguais a `0.0` o que indica que os valores que são diferentes de `0.0` podem ser possíveis `outliers`. Logo, para essas colunas, iremos transformar os valores `NaN` em `0.0`. "
   ]
  },
  {
   "cell_type": "markdown",
   "id": "503b8644",
   "metadata": {},
   "source": [
    "Para a coluna `revenue`, temos:"
   ]
  },
  {
   "cell_type": "code",
   "execution_count": 4021,
   "id": "58da0926",
   "metadata": {},
   "outputs": [
    {
     "data": {
      "text/plain": [
       "0.0302"
      ]
     },
     "execution_count": 4021,
     "metadata": {},
     "output_type": "execute_result"
    }
   ],
   "source": [
    "media_nan_revenue = df_sem_duplicado['revenue'].isna().mean()\n",
    "media_nan_revenue"
   ]
  },
  {
   "cell_type": "code",
   "execution_count": 4022,
   "id": "7917f26c",
   "metadata": {},
   "outputs": [
    {
     "data": {
      "text/plain": [
       "0.8102"
      ]
     },
     "execution_count": 4022,
     "metadata": {},
     "output_type": "execute_result"
    }
   ],
   "source": [
    "media_zero_revenue = (df_sem_duplicado['revenue'] == 0.0).mean()\n",
    "media_zero_revenue"
   ]
  },
  {
   "cell_type": "code",
   "execution_count": 4023,
   "id": "386c5a1d",
   "metadata": {},
   "outputs": [],
   "source": [
    "df_sem_duplicado['revenue'] = df_sem_duplicado['revenue'].replace(np.nan, 0.0)"
   ]
  },
  {
   "cell_type": "code",
   "execution_count": 4024,
   "id": "005da4a9",
   "metadata": {},
   "outputs": [
    {
     "data": {
      "text/plain": [
       "0.0"
      ]
     },
     "execution_count": 4024,
     "metadata": {},
     "output_type": "execute_result"
    }
   ],
   "source": [
    "df_sem_duplicado['revenue'].isna().median()"
   ]
  },
  {
   "cell_type": "markdown",
   "id": "9600c18f",
   "metadata": {},
   "source": [
    "Para a coluna `budget` percebemos que ela está com o tipo `object` nas informações do dataframe. Então, primeiramente faremos a mudança de tipo para `float`. "
   ]
  },
  {
   "cell_type": "markdown",
   "id": "e5422a5a",
   "metadata": {},
   "source": [
    "A mudança direta para `float` gera um erro por causa da palavra `unknown` em alguns registros nessa coluna. Então substituiremos esse valor por `NaN` e após isso faremos a mudança de tipo para `float`."
   ]
  },
  {
   "cell_type": "code",
   "execution_count": 4025,
   "id": "1c9501e3",
   "metadata": {},
   "outputs": [],
   "source": [
    "df_sem_duplicado['budget'] = df_sem_duplicado['budget'].replace('unknown', np.nan)"
   ]
  },
  {
   "cell_type": "markdown",
   "id": "96f5f424",
   "metadata": {},
   "source": [
    "Mundando para `float`."
   ]
  },
  {
   "cell_type": "code",
   "execution_count": 4026,
   "id": "116cb861",
   "metadata": {},
   "outputs": [],
   "source": [
    "df_sem_duplicado['budget'] = df_sem_duplicado['budget'].astype(float)"
   ]
  },
  {
   "cell_type": "markdown",
   "id": "2e35ea06",
   "metadata": {},
   "source": [
    "Preenchendo os `NaN`s de `budget` com `0.0`."
   ]
  },
  {
   "cell_type": "code",
   "execution_count": 4027,
   "id": "4b1de0a5",
   "metadata": {},
   "outputs": [
    {
     "data": {
      "text/plain": [
       "0.04"
      ]
     },
     "execution_count": 4027,
     "metadata": {},
     "output_type": "execute_result"
    }
   ],
   "source": [
    "media_nan_budget = df_sem_duplicado['budget'].isna().mean()\n",
    "media_nan_budget"
   ]
  },
  {
   "cell_type": "code",
   "execution_count": 4028,
   "id": "6756f606",
   "metadata": {},
   "outputs": [
    {
     "data": {
      "text/plain": [
       "0.78"
      ]
     },
     "execution_count": 4028,
     "metadata": {},
     "output_type": "execute_result"
    }
   ],
   "source": [
    "media_zero_budget = (df_sem_duplicado['budget'] == 0.0).mean()\n",
    "media_zero_budget"
   ]
  },
  {
   "cell_type": "code",
   "execution_count": 4029,
   "id": "bf427b6d",
   "metadata": {},
   "outputs": [],
   "source": [
    "df_sem_duplicado['budget'] = df_sem_duplicado['budget'].replace(np.nan, 0.0)"
   ]
  },
  {
   "cell_type": "code",
   "execution_count": 4030,
   "id": "f9141266",
   "metadata": {},
   "outputs": [
    {
     "data": {
      "text/plain": [
       "0.0"
      ]
     },
     "execution_count": 4030,
     "metadata": {},
     "output_type": "execute_result"
    }
   ],
   "source": [
    "df_sem_duplicado['budget'].isna().mean()"
   ]
  },
  {
   "cell_type": "code",
   "execution_count": 4031,
   "id": "61c89a34",
   "metadata": {},
   "outputs": [
    {
     "data": {
      "text/html": [
       "<div>\n",
       "<style scoped>\n",
       "    .dataframe tbody tr th:only-of-type {\n",
       "        vertical-align: middle;\n",
       "    }\n",
       "\n",
       "    .dataframe tbody tr th {\n",
       "        vertical-align: top;\n",
       "    }\n",
       "\n",
       "    .dataframe thead th {\n",
       "        text-align: right;\n",
       "    }\n",
       "</style>\n",
       "<table border=\"1\" class=\"dataframe\">\n",
       "  <thead>\n",
       "    <tr style=\"text-align: right;\">\n",
       "      <th></th>\n",
       "      <th>id</th>\n",
       "      <th>budget</th>\n",
       "      <th>revenue</th>\n",
       "      <th>popularity</th>\n",
       "      <th>vote_average</th>\n",
       "      <th>vote_count</th>\n",
       "    </tr>\n",
       "  </thead>\n",
       "  <tbody>\n",
       "    <tr>\n",
       "      <th>count</th>\n",
       "      <td>5000.000000</td>\n",
       "      <td>5.000000e+03</td>\n",
       "      <td>5.000000e+03</td>\n",
       "      <td>4999.000000</td>\n",
       "      <td>4999.000000</td>\n",
       "      <td>4999.000000</td>\n",
       "    </tr>\n",
       "    <tr>\n",
       "      <th>mean</th>\n",
       "      <td>109181.451800</td>\n",
       "      <td>2.369611e+07</td>\n",
       "      <td>9.689476e+06</td>\n",
       "      <td>2.935910</td>\n",
       "      <td>5.607121</td>\n",
       "      <td>106.282456</td>\n",
       "    </tr>\n",
       "    <tr>\n",
       "      <th>std</th>\n",
       "      <td>112394.383204</td>\n",
       "      <td>1.414249e+09</td>\n",
       "      <td>5.402569e+07</td>\n",
       "      <td>8.936916</td>\n",
       "      <td>1.963014</td>\n",
       "      <td>460.439773</td>\n",
       "    </tr>\n",
       "    <tr>\n",
       "      <th>min</th>\n",
       "      <td>13.000000</td>\n",
       "      <td>0.000000e+00</td>\n",
       "      <td>-5.000000e+04</td>\n",
       "      <td>0.000000</td>\n",
       "      <td>0.000000</td>\n",
       "      <td>0.000000</td>\n",
       "    </tr>\n",
       "    <tr>\n",
       "      <th>25%</th>\n",
       "      <td>27305.500000</td>\n",
       "      <td>0.000000e+00</td>\n",
       "      <td>0.000000e+00</td>\n",
       "      <td>0.375972</td>\n",
       "      <td>5.000000</td>\n",
       "      <td>3.000000</td>\n",
       "    </tr>\n",
       "    <tr>\n",
       "      <th>50%</th>\n",
       "      <td>60463.000000</td>\n",
       "      <td>0.000000e+00</td>\n",
       "      <td>0.000000e+00</td>\n",
       "      <td>1.097132</td>\n",
       "      <td>6.000000</td>\n",
       "      <td>10.000000</td>\n",
       "    </tr>\n",
       "    <tr>\n",
       "      <th>75%</th>\n",
       "      <td>156980.000000</td>\n",
       "      <td>0.000000e+00</td>\n",
       "      <td>0.000000e+00</td>\n",
       "      <td>3.580478</td>\n",
       "      <td>6.800000</td>\n",
       "      <td>34.000000</td>\n",
       "    </tr>\n",
       "    <tr>\n",
       "      <th>max</th>\n",
       "      <td>464207.000000</td>\n",
       "      <td>1.000000e+11</td>\n",
       "      <td>1.156731e+09</td>\n",
       "      <td>547.488298</td>\n",
       "      <td>10.000000</td>\n",
       "      <td>8670.000000</td>\n",
       "    </tr>\n",
       "  </tbody>\n",
       "</table>\n",
       "</div>"
      ],
      "text/plain": [
       "                  id        budget       revenue   popularity  vote_average  \\\n",
       "count    5000.000000  5.000000e+03  5.000000e+03  4999.000000   4999.000000   \n",
       "mean   109181.451800  2.369611e+07  9.689476e+06     2.935910      5.607121   \n",
       "std    112394.383204  1.414249e+09  5.402569e+07     8.936916      1.963014   \n",
       "min        13.000000  0.000000e+00 -5.000000e+04     0.000000      0.000000   \n",
       "25%     27305.500000  0.000000e+00  0.000000e+00     0.375972      5.000000   \n",
       "50%     60463.000000  0.000000e+00  0.000000e+00     1.097132      6.000000   \n",
       "75%    156980.000000  0.000000e+00  0.000000e+00     3.580478      6.800000   \n",
       "max    464207.000000  1.000000e+11  1.156731e+09   547.488298     10.000000   \n",
       "\n",
       "        vote_count  \n",
       "count  4999.000000  \n",
       "mean    106.282456  \n",
       "std     460.439773  \n",
       "min       0.000000  \n",
       "25%       3.000000  \n",
       "50%      10.000000  \n",
       "75%      34.000000  \n",
       "max    8670.000000  "
      ]
     },
     "execution_count": 4031,
     "metadata": {},
     "output_type": "execute_result"
    }
   ],
   "source": [
    "df_sem_duplicado.describe()"
   ]
  },
  {
   "cell_type": "markdown",
   "id": "23e51d57",
   "metadata": {},
   "source": [
    "Para a coluna `runtime` subdtituiremos os `NaN`s pela a `madiana`, pois ela performa melhor com `outliers`."
   ]
  },
  {
   "cell_type": "code",
   "execution_count": 4032,
   "id": "e1d6df15",
   "metadata": {},
   "outputs": [
    {
     "data": {
      "text/plain": [
       "127"
      ]
     },
     "execution_count": 4032,
     "metadata": {},
     "output_type": "execute_result"
    }
   ],
   "source": [
    "df_sem_duplicado['runtime'].isna().sum()"
   ]
  },
  {
   "cell_type": "markdown",
   "id": "32f906e7",
   "metadata": {},
   "source": [
    "Ao transformarmos o tipo de `runtime` para `float` encontramos o problema de que existem registros com `min` de minutos após o número. Então, retiraremos o `min` primeiro antes de mudar para `float`."
   ]
  },
  {
   "cell_type": "code",
   "execution_count": 4033,
   "id": "1809a73c",
   "metadata": {},
   "outputs": [],
   "source": [
    "df_sem_duplicado['runtime'] = df_sem_duplicado['runtime'].str.replace('min', '', regex=False).str.strip()"
   ]
  },
  {
   "cell_type": "code",
   "execution_count": 4034,
   "id": "7f235460",
   "metadata": {},
   "outputs": [],
   "source": [
    "df_sem_duplicado['runtime'] = df_sem_duplicado['runtime'].astype(float)"
   ]
  },
  {
   "cell_type": "markdown",
   "id": "a5c5be3b",
   "metadata": {},
   "source": [
    "Agora substituiremos os valores `NaN` pela `mediana`,"
   ]
  },
  {
   "cell_type": "code",
   "execution_count": 4035,
   "id": "4b2a3055",
   "metadata": {},
   "outputs": [],
   "source": [
    "mediana_runtime = df_sem_duplicado['runtime'].median()\n",
    "df_sem_duplicado['runtime'] = df_sem_duplicado['runtime'].replace(np.nan, mediana_runtime)"
   ]
  },
  {
   "cell_type": "code",
   "execution_count": 4036,
   "id": "ab863357",
   "metadata": {},
   "outputs": [
    {
     "data": {
      "text/plain": [
       "0"
      ]
     },
     "execution_count": 4036,
     "metadata": {},
     "output_type": "execute_result"
    }
   ],
   "source": [
    "df_sem_duplicado['runtime'].isna().sum()"
   ]
  },
  {
   "cell_type": "markdown",
   "id": "ee754db2",
   "metadata": {},
   "source": [
    "Para as colunas `popularity`, `vote_average` e `vote_count`, substuiremos pela `média`, `média` e `mediana` respectivamente, já que, `popularity` e `vote_average` tem desvio padrão baixo (há indícios de poucos `outliers`). Já `vote_count` possui desvio padrão alto, ou seja, há indícios de mais `outliers` nessa coluna e então a `mediana` tem um melhor comportamento."
   ]
  },
  {
   "cell_type": "code",
   "execution_count": 4037,
   "id": "6fc79b43",
   "metadata": {},
   "outputs": [],
   "source": [
    "media_popularity = df_sem_duplicado['popularity'].mean()\n",
    "media_vote_average = df_sem_duplicado['vote_average'].mean()\n",
    "mediana_vote_count = df_sem_duplicado['vote_count'].median()"
   ]
  },
  {
   "cell_type": "code",
   "execution_count": 4038,
   "id": "ff3c7d0b",
   "metadata": {},
   "outputs": [],
   "source": [
    "df_sem_duplicado['popularity'] = df_sem_duplicado['popularity'].replace(np.nan, media_popularity)\n",
    "df_sem_duplicado['vote_average'] = df_sem_duplicado['vote_average'].replace(np.nan, media_vote_average)\n",
    "df_sem_duplicado['vote_count'] = df_sem_duplicado['vote_count'].replace(np.nan, mediana_vote_count)"
   ]
  },
  {
   "cell_type": "code",
   "execution_count": 4039,
   "id": "c72721e0",
   "metadata": {},
   "outputs": [
    {
     "data": {
      "text/plain": [
       "id                     0\n",
       "title                  1\n",
       "original_title         0\n",
       "original_language      1\n",
       "overview              98\n",
       "budget                 0\n",
       "revenue                0\n",
       "runtime                0\n",
       "release_date         114\n",
       "genres                 0\n",
       "popularity             0\n",
       "vote_average           0\n",
       "vote_count             0\n",
       "dtype: int64"
      ]
     },
     "execution_count": 4039,
     "metadata": {},
     "output_type": "execute_result"
    }
   ],
   "source": [
    "df_sem_duplicado.isna().sum()"
   ]
  },
  {
   "cell_type": "markdown",
   "id": "a50da2bb",
   "metadata": {},
   "source": [
    "Analisando o valor ausente da coluna `title` vemos que também existem valores ausentes em `release_date` e `release_year` e pela `overview` do filme conseguimos saber qual é o filme e preencher essas colunas."
   ]
  },
  {
   "cell_type": "code",
   "execution_count": 4040,
   "id": "1d431873",
   "metadata": {},
   "outputs": [
    {
     "data": {
      "text/html": [
       "<div>\n",
       "<style scoped>\n",
       "    .dataframe tbody tr th:only-of-type {\n",
       "        vertical-align: middle;\n",
       "    }\n",
       "\n",
       "    .dataframe tbody tr th {\n",
       "        vertical-align: top;\n",
       "    }\n",
       "\n",
       "    .dataframe thead th {\n",
       "        text-align: right;\n",
       "    }\n",
       "</style>\n",
       "<table border=\"1\" class=\"dataframe\">\n",
       "  <thead>\n",
       "    <tr style=\"text-align: right;\">\n",
       "      <th></th>\n",
       "      <th>id</th>\n",
       "      <th>title</th>\n",
       "      <th>original_title</th>\n",
       "      <th>original_language</th>\n",
       "      <th>overview</th>\n",
       "      <th>budget</th>\n",
       "      <th>revenue</th>\n",
       "      <th>runtime</th>\n",
       "      <th>release_date</th>\n",
       "      <th>genres</th>\n",
       "      <th>popularity</th>\n",
       "      <th>vote_average</th>\n",
       "      <th>vote_count</th>\n",
       "    </tr>\n",
       "  </thead>\n",
       "  <tbody>\n",
       "    <tr>\n",
       "      <th>2474</th>\n",
       "      <td>122662</td>\n",
       "      <td>NaN</td>\n",
       "      <td>マルドゥック・スクランブル 排気</td>\n",
       "      <td>ja</td>\n",
       "      <td>Third film of the Mardock Scramble series.</td>\n",
       "      <td>0.0</td>\n",
       "      <td>0.0</td>\n",
       "      <td>94.0</td>\n",
       "      <td>NaN</td>\n",
       "      <td>[Animation, Science Fiction]</td>\n",
       "      <td>2.93591</td>\n",
       "      <td>5.607121</td>\n",
       "      <td>10.0</td>\n",
       "    </tr>\n",
       "  </tbody>\n",
       "</table>\n",
       "</div>"
      ],
      "text/plain": [
       "          id title    original_title original_language  \\\n",
       "2474  122662   NaN  マルドゥック・スクランブル 排気                ja   \n",
       "\n",
       "                                        overview  budget  revenue  runtime  \\\n",
       "2474  Third film of the Mardock Scramble series.     0.0      0.0     94.0   \n",
       "\n",
       "     release_date                        genres  popularity  vote_average  \\\n",
       "2474          NaN  [Animation, Science Fiction]     2.93591      5.607121   \n",
       "\n",
       "      vote_count  \n",
       "2474        10.0  "
      ]
     },
     "execution_count": 4040,
     "metadata": {},
     "output_type": "execute_result"
    }
   ],
   "source": [
    "df_sem_duplicado[df_sem_duplicado['title'].isna()]"
   ]
  },
  {
   "cell_type": "code",
   "execution_count": 4041,
   "id": "2fc8f762",
   "metadata": {},
   "outputs": [],
   "source": [
    "df_sem_duplicado['title'] = df_sem_duplicado['title'].astype(str)"
   ]
  },
  {
   "cell_type": "code",
   "execution_count": 4042,
   "id": "b4369947",
   "metadata": {},
   "outputs": [],
   "source": [
    "df_sem_duplicado.loc[2474, 'title'] = 'Mardock Scramble: The Third Exhaust'"
   ]
  },
  {
   "cell_type": "markdown",
   "id": "ae370d77",
   "metadata": {},
   "source": [
    "Agora vamos transforma a coluna `release_date` em `datetime` para inserir a data de lançamento do filme."
   ]
  },
  {
   "cell_type": "code",
   "execution_count": 4043,
   "id": "3d43c50d",
   "metadata": {},
   "outputs": [],
   "source": [
    "df_sem_duplicado['release_date'] = pd.to_datetime(df_sem_duplicado['release_date'], errors='coerce')"
   ]
  },
  {
   "cell_type": "code",
   "execution_count": 4044,
   "id": "cebe24e4",
   "metadata": {},
   "outputs": [],
   "source": [
    "df_sem_duplicado.loc[2474, 'release_date'] = pd.to_datetime('2012-09-29')"
   ]
  },
  {
   "cell_type": "markdown",
   "id": "c4bea215",
   "metadata": {},
   "source": [
    "Inserimos todos os valores ausentes desse registro."
   ]
  },
  {
   "cell_type": "code",
   "execution_count": 4045,
   "id": "46430a39",
   "metadata": {},
   "outputs": [
    {
     "data": {
      "text/plain": [
       "id                                                       122662\n",
       "title                       Mardock Scramble: The Third Exhaust\n",
       "original_title                                 マルドゥック・スクランブル 排気\n",
       "original_language                                            ja\n",
       "overview             Third film of the Mardock Scramble series.\n",
       "budget                                                      0.0\n",
       "revenue                                                     0.0\n",
       "runtime                                                    94.0\n",
       "release_date                                2012-09-29 00:00:00\n",
       "genres                             [Animation, Science Fiction]\n",
       "popularity                                              2.93591\n",
       "vote_average                                           5.607121\n",
       "vote_count                                                 10.0\n",
       "Name: 2474, dtype: object"
      ]
     },
     "execution_count": 4045,
     "metadata": {},
     "output_type": "execute_result"
    }
   ],
   "source": [
    "df_sem_duplicado.loc[2474]"
   ]
  },
  {
   "cell_type": "markdown",
   "id": "4efae73a",
   "metadata": {},
   "source": [
    "Agora para a coluna `original_language` temos uma única coluna `NaN` que também conseguimos preenchela."
   ]
  },
  {
   "cell_type": "code",
   "execution_count": 4046,
   "id": "1b8c283e",
   "metadata": {},
   "outputs": [
    {
     "data": {
      "text/html": [
       "<div>\n",
       "<style scoped>\n",
       "    .dataframe tbody tr th:only-of-type {\n",
       "        vertical-align: middle;\n",
       "    }\n",
       "\n",
       "    .dataframe tbody tr th {\n",
       "        vertical-align: top;\n",
       "    }\n",
       "\n",
       "    .dataframe thead th {\n",
       "        text-align: right;\n",
       "    }\n",
       "</style>\n",
       "<table border=\"1\" class=\"dataframe\">\n",
       "  <thead>\n",
       "    <tr style=\"text-align: right;\">\n",
       "      <th></th>\n",
       "      <th>id</th>\n",
       "      <th>title</th>\n",
       "      <th>original_title</th>\n",
       "      <th>original_language</th>\n",
       "      <th>overview</th>\n",
       "      <th>budget</th>\n",
       "      <th>revenue</th>\n",
       "      <th>runtime</th>\n",
       "      <th>release_date</th>\n",
       "      <th>genres</th>\n",
       "      <th>popularity</th>\n",
       "      <th>vote_average</th>\n",
       "      <th>vote_count</th>\n",
       "    </tr>\n",
       "  </thead>\n",
       "  <tbody>\n",
       "    <tr>\n",
       "      <th>4946</th>\n",
       "      <td>381096</td>\n",
       "      <td>Yarn</td>\n",
       "      <td>Garn</td>\n",
       "      <td>NaN</td>\n",
       "      <td>The traditional crafts of crochet and knitting...</td>\n",
       "      <td>0.0</td>\n",
       "      <td>0.0</td>\n",
       "      <td>76.0</td>\n",
       "      <td>2016-03-12</td>\n",
       "      <td>[Animation, Documentary]</td>\n",
       "      <td>0.067624</td>\n",
       "      <td>0.0</td>\n",
       "      <td>0.0</td>\n",
       "    </tr>\n",
       "  </tbody>\n",
       "</table>\n",
       "</div>"
      ],
      "text/plain": [
       "          id title original_title original_language  \\\n",
       "4946  381096  Yarn           Garn               NaN   \n",
       "\n",
       "                                               overview  budget  revenue  \\\n",
       "4946  The traditional crafts of crochet and knitting...     0.0      0.0   \n",
       "\n",
       "      runtime release_date                    genres  popularity  \\\n",
       "4946     76.0   2016-03-12  [Animation, Documentary]    0.067624   \n",
       "\n",
       "      vote_average  vote_count  \n",
       "4946           0.0         0.0  "
      ]
     },
     "execution_count": 4046,
     "metadata": {},
     "output_type": "execute_result"
    }
   ],
   "source": [
    "df_sem_duplicado[df_sem_duplicado['original_language'].isna()]"
   ]
  },
  {
   "cell_type": "code",
   "execution_count": 4047,
   "id": "be6b8596",
   "metadata": {},
   "outputs": [
    {
     "data": {
      "text/plain": [
       "array(['en', 'fr', 'nl', 'it', 'ko', 'hi', 'ja', 'cs', 'cn', 'tr', 'sv',\n",
       "       'de', 'ta', 'English', 'ingles', 'EN', 'zh', 'is', 'hr', 'el',\n",
       "       'pt', 'ml', 'ar', 'ru', 'sr', 'fi', 'th', 'fa', 'ur', 'da', 'es',\n",
       "       'iu', 'pl', 'hu', 'lv', 'mk', 'et', 'vi', 'ro', 'tl', 'no', 'mn',\n",
       "       'he', 'bg', 'uk', 'xx', 'pa', 'mr', 'ca', 'id', 'nb', 'uz', 'sk',\n",
       "       'sl', 'sq', 'te', 'ka', 'ay', 'ps', 'ms', 'bn', nan], dtype=object)"
      ]
     },
     "execution_count": 4047,
     "metadata": {},
     "output_type": "execute_result"
    }
   ],
   "source": [
    "df_sem_duplicado['original_language'].unique()"
   ]
  },
  {
   "cell_type": "code",
   "execution_count": 4048,
   "id": "e2e2ba57",
   "metadata": {},
   "outputs": [],
   "source": [
    "df_sem_duplicado['original_language'] = df_sem_duplicado['original_language'].replace(['English', 'ingles', 'EN'], 'en')"
   ]
  },
  {
   "cell_type": "code",
   "execution_count": 4049,
   "id": "311f3423",
   "metadata": {},
   "outputs": [
    {
     "data": {
      "text/plain": [
       "array(['en', 'fr', 'nl', 'it', 'ko', 'hi', 'ja', 'cs', 'cn', 'tr', 'sv',\n",
       "       'de', 'ta', 'zh', 'is', 'hr', 'el', 'pt', 'ml', 'ar', 'ru', 'sr',\n",
       "       'fi', 'th', 'fa', 'ur', 'da', 'es', 'iu', 'pl', 'hu', 'lv', 'mk',\n",
       "       'et', 'vi', 'ro', 'tl', 'no', 'mn', 'he', 'bg', 'uk', 'xx', 'pa',\n",
       "       'mr', 'ca', 'id', 'nb', 'uz', 'sk', 'sl', 'sq', 'te', 'ka', 'ay',\n",
       "       'ps', 'ms', 'bn', nan], dtype=object)"
      ]
     },
     "execution_count": 4049,
     "metadata": {},
     "output_type": "execute_result"
    }
   ],
   "source": [
    "df_sem_duplicado['original_language'].unique()"
   ]
  },
  {
   "cell_type": "markdown",
   "id": "db39f6ef",
   "metadata": {},
   "source": [
    "Preenchendo o idioma faltante em `original_language`."
   ]
  },
  {
   "cell_type": "code",
   "execution_count": 4050,
   "id": "d70c1763",
   "metadata": {},
   "outputs": [],
   "source": [
    "df_sem_duplicado.loc[4946, 'original_language'] = 'en'"
   ]
  },
  {
   "cell_type": "code",
   "execution_count": 4051,
   "id": "c3b548f1",
   "metadata": {},
   "outputs": [
    {
     "data": {
      "text/plain": [
       "id                                                              381096\n",
       "title                                                             Yarn\n",
       "original_title                                                    Garn\n",
       "original_language                                                   en\n",
       "overview             The traditional crafts of crochet and knitting...\n",
       "budget                                                             0.0\n",
       "revenue                                                            0.0\n",
       "runtime                                                           76.0\n",
       "release_date                                       2016-03-12 00:00:00\n",
       "genres                                        [Animation, Documentary]\n",
       "popularity                                                    0.067624\n",
       "vote_average                                                       0.0\n",
       "vote_count                                                         0.0\n",
       "Name: 4946, dtype: object"
      ]
     },
     "execution_count": 4051,
     "metadata": {},
     "output_type": "execute_result"
    }
   ],
   "source": [
    "df_sem_duplicado.loc[4946]"
   ]
  },
  {
   "cell_type": "markdown",
   "id": "4e15c4b6",
   "metadata": {},
   "source": [
    "Para as colunas `overview`, `release_date` não conseguimos inferir seus valores e por enquanto não alteraremos em nada nessas colunas."
   ]
  },
  {
   "cell_type": "code",
   "execution_count": 4052,
   "id": "c0a0b6cc",
   "metadata": {},
   "outputs": [
    {
     "name": "stdout",
     "output_type": "stream",
     "text": [
      "<class 'pandas.core.frame.DataFrame'>\n",
      "Index: 5000 entries, 0 to 4999\n",
      "Data columns (total 13 columns):\n",
      " #   Column             Non-Null Count  Dtype         \n",
      "---  ------             --------------  -----         \n",
      " 0   id                 5000 non-null   int64         \n",
      " 1   title              5000 non-null   object        \n",
      " 2   original_title     5000 non-null   object        \n",
      " 3   original_language  5000 non-null   object        \n",
      " 4   overview           4902 non-null   object        \n",
      " 5   budget             5000 non-null   float64       \n",
      " 6   revenue            5000 non-null   float64       \n",
      " 7   runtime            5000 non-null   float64       \n",
      " 8   release_date       4886 non-null   datetime64[ns]\n",
      " 9   genres             5000 non-null   object        \n",
      " 10  popularity         5000 non-null   float64       \n",
      " 11  vote_average       5000 non-null   float64       \n",
      " 12  vote_count         5000 non-null   float64       \n",
      "dtypes: datetime64[ns](1), float64(6), int64(1), object(5)\n",
      "memory usage: 675.9+ KB\n"
     ]
    }
   ],
   "source": [
    "df_sem_duplicado.info()"
   ]
  },
  {
   "cell_type": "code",
   "execution_count": 4053,
   "id": "cff69591",
   "metadata": {},
   "outputs": [],
   "source": [
    "df_limpo = df_sem_duplicado.copy()"
   ]
  },
  {
   "cell_type": "code",
   "execution_count": 4054,
   "id": "4926773b",
   "metadata": {},
   "outputs": [
    {
     "name": "stdout",
     "output_type": "stream",
     "text": [
      "<class 'pandas.core.frame.DataFrame'>\n",
      "Index: 5000 entries, 0 to 4999\n",
      "Data columns (total 13 columns):\n",
      " #   Column             Non-Null Count  Dtype         \n",
      "---  ------             --------------  -----         \n",
      " 0   id                 5000 non-null   int64         \n",
      " 1   title              5000 non-null   object        \n",
      " 2   original_title     5000 non-null   object        \n",
      " 3   original_language  5000 non-null   object        \n",
      " 4   overview           4902 non-null   object        \n",
      " 5   budget             5000 non-null   float64       \n",
      " 6   revenue            5000 non-null   float64       \n",
      " 7   runtime            5000 non-null   float64       \n",
      " 8   release_date       4886 non-null   datetime64[ns]\n",
      " 9   genres             5000 non-null   object        \n",
      " 10  popularity         5000 non-null   float64       \n",
      " 11  vote_average       5000 non-null   float64       \n",
      " 12  vote_count         5000 non-null   float64       \n",
      "dtypes: datetime64[ns](1), float64(6), int64(1), object(5)\n",
      "memory usage: 675.9+ KB\n"
     ]
    }
   ],
   "source": [
    "df_limpo.info()"
   ]
  },
  {
   "cell_type": "markdown",
   "id": "8b24117e",
   "metadata": {},
   "source": [
    "## Salvando o dataset"
   ]
  },
  {
   "cell_type": "code",
   "execution_count": 4055,
   "id": "571b4131",
   "metadata": {},
   "outputs": [],
   "source": [
    "df_limpo.to_csv('../data/processed/filmes_limpos.csv', index=False)"
   ]
  }
 ],
 "metadata": {
  "kernelspec": {
   "display_name": "Python 3",
   "language": "python",
   "name": "python3"
  },
  "language_info": {
   "name": "python",
   "version": "3.12.6"
  }
 },
 "nbformat": 4,
 "nbformat_minor": 5
}
