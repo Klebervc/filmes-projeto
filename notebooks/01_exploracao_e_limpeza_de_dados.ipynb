{
 "cells": [
  {
   "cell_type": "markdown",
   "id": "7255b1fd",
   "metadata": {},
   "source": [
    "# Análise exploratória dos dados"
   ]
  },
  {
   "cell_type": "markdown",
   "id": "a98d4df7",
   "metadata": {},
   "source": [
    "## Importando as bibliotecas"
   ]
  },
  {
   "cell_type": "code",
   "execution_count": 3770,
   "id": "d339510f",
   "metadata": {},
   "outputs": [],
   "source": [
    "import pandas as pd\n",
    "import numpy as np"
   ]
  },
  {
   "cell_type": "markdown",
   "id": "f4b14f1d",
   "metadata": {},
   "source": [
    "## Caminho para o dataset"
   ]
  },
  {
   "cell_type": "code",
   "execution_count": 3771,
   "id": "2edfa23c",
   "metadata": {},
   "outputs": [],
   "source": [
    "path_csv = '../data/raw/movies_dataset.csv'"
   ]
  },
  {
   "cell_type": "markdown",
   "id": "b5c7f950",
   "metadata": {},
   "source": [
    "## Lendo o dataset"
   ]
  },
  {
   "cell_type": "code",
   "execution_count": 3772,
   "id": "2c13a6de",
   "metadata": {},
   "outputs": [
    {
     "data": {
      "text/html": [
       "<div>\n",
       "<style scoped>\n",
       "    .dataframe tbody tr th:only-of-type {\n",
       "        vertical-align: middle;\n",
       "    }\n",
       "\n",
       "    .dataframe tbody tr th {\n",
       "        vertical-align: top;\n",
       "    }\n",
       "\n",
       "    .dataframe thead th {\n",
       "        text-align: right;\n",
       "    }\n",
       "</style>\n",
       "<table border=\"1\" class=\"dataframe\">\n",
       "  <thead>\n",
       "    <tr style=\"text-align: right;\">\n",
       "      <th></th>\n",
       "      <th>id</th>\n",
       "      <th>title</th>\n",
       "      <th>original_title</th>\n",
       "      <th>original_language</th>\n",
       "      <th>overview</th>\n",
       "      <th>tagline</th>\n",
       "      <th>budget</th>\n",
       "      <th>revenue</th>\n",
       "      <th>runtime</th>\n",
       "      <th>release_date</th>\n",
       "      <th>popularity</th>\n",
       "      <th>vote_average</th>\n",
       "      <th>vote_count</th>\n",
       "      <th>release_year</th>\n",
       "    </tr>\n",
       "  </thead>\n",
       "  <tbody>\n",
       "    <tr>\n",
       "      <th>0</th>\n",
       "      <td>411405</td>\n",
       "      <td>Small Crimes</td>\n",
       "      <td>Small Crimes</td>\n",
       "      <td>en</td>\n",
       "      <td>A disgraced former cop, fresh off a six-year p...</td>\n",
       "      <td>NaN</td>\n",
       "      <td>0.0</td>\n",
       "      <td>0.0</td>\n",
       "      <td>95.0</td>\n",
       "      <td>2017-04-28</td>\n",
       "      <td>7.219022</td>\n",
       "      <td>5.8</td>\n",
       "      <td>55.0</td>\n",
       "      <td>2017.0</td>\n",
       "    </tr>\n",
       "    <tr>\n",
       "      <th>1</th>\n",
       "      <td>42492</td>\n",
       "      <td>Up the Sandbox</td>\n",
       "      <td>Up the Sandbox</td>\n",
       "      <td>en</td>\n",
       "      <td>A young wife and mother, bored with day-to-day...</td>\n",
       "      <td>NaN</td>\n",
       "      <td>0.0</td>\n",
       "      <td>0.0</td>\n",
       "      <td>97.0</td>\n",
       "      <td>1972-12-21</td>\n",
       "      <td>0.138450</td>\n",
       "      <td>7.3</td>\n",
       "      <td>2.0</td>\n",
       "      <td>1972.0</td>\n",
       "    </tr>\n",
       "    <tr>\n",
       "      <th>2</th>\n",
       "      <td>12143</td>\n",
       "      <td>Bad Lieutenant</td>\n",
       "      <td>Bad Lieutenant</td>\n",
       "      <td>en</td>\n",
       "      <td>While investigating a young nun's rape, a corr...</td>\n",
       "      <td>Gambler. Thief. Junkie. Killer. Cop.</td>\n",
       "      <td>1000000.0</td>\n",
       "      <td>2019469.0</td>\n",
       "      <td>96.0</td>\n",
       "      <td>1992-09-16</td>\n",
       "      <td>6.417037</td>\n",
       "      <td>6.9</td>\n",
       "      <td>162.0</td>\n",
       "      <td>1992.0</td>\n",
       "    </tr>\n",
       "    <tr>\n",
       "      <th>3</th>\n",
       "      <td>9976</td>\n",
       "      <td>Satan's Little Helper</td>\n",
       "      <td>Satan's Little Helper</td>\n",
       "      <td>en</td>\n",
       "      <td>A naïve young boy unknowingly becomes the pawn...</td>\n",
       "      <td>You'll laugh 'til you die</td>\n",
       "      <td>0.0</td>\n",
       "      <td>0.0</td>\n",
       "      <td>100.0</td>\n",
       "      <td>2004-01-01</td>\n",
       "      <td>2.233189</td>\n",
       "      <td>5.0</td>\n",
       "      <td>42.0</td>\n",
       "      <td>2004.0</td>\n",
       "    </tr>\n",
       "    <tr>\n",
       "      <th>4</th>\n",
       "      <td>46761</td>\n",
       "      <td>Sitcom</td>\n",
       "      <td>Sitcom</td>\n",
       "      <td>fr</td>\n",
       "      <td>The adventures of an upper-class suburban fami...</td>\n",
       "      <td>NaN</td>\n",
       "      <td>0.0</td>\n",
       "      <td>0.0</td>\n",
       "      <td>80.0</td>\n",
       "      <td>1998-05-27</td>\n",
       "      <td>1.800582</td>\n",
       "      <td>6.4</td>\n",
       "      <td>27.0</td>\n",
       "      <td>1998.0</td>\n",
       "    </tr>\n",
       "    <tr>\n",
       "      <th>...</th>\n",
       "      <td>...</td>\n",
       "      <td>...</td>\n",
       "      <td>...</td>\n",
       "      <td>...</td>\n",
       "      <td>...</td>\n",
       "      <td>...</td>\n",
       "      <td>...</td>\n",
       "      <td>...</td>\n",
       "      <td>...</td>\n",
       "      <td>...</td>\n",
       "      <td>...</td>\n",
       "      <td>...</td>\n",
       "      <td>...</td>\n",
       "      <td>...</td>\n",
       "    </tr>\n",
       "    <tr>\n",
       "      <th>5002</th>\n",
       "      <td>16010</td>\n",
       "      <td>Life Hits</td>\n",
       "      <td>Råzone</td>\n",
       "      <td>da</td>\n",
       "      <td>Christina is living in a suburb to Copenhagen....</td>\n",
       "      <td>NaN</td>\n",
       "      <td>0.0</td>\n",
       "      <td>0.0</td>\n",
       "      <td>93.0</td>\n",
       "      <td>2006-07-03</td>\n",
       "      <td>0.509359</td>\n",
       "      <td>6.5</td>\n",
       "      <td>6.0</td>\n",
       "      <td>2006.0</td>\n",
       "    </tr>\n",
       "    <tr>\n",
       "      <th>5003</th>\n",
       "      <td>205775</td>\n",
       "      <td>In the Heart of the Sea</td>\n",
       "      <td>In the Heart of the Sea</td>\n",
       "      <td>en</td>\n",
       "      <td>In the winter of 1820, the New England whaling...</td>\n",
       "      <td>Based on the incredible true story that inspir...</td>\n",
       "      <td>100000000.0</td>\n",
       "      <td>93820758.0</td>\n",
       "      <td>122.0</td>\n",
       "      <td>2015-11-20</td>\n",
       "      <td>11.696923</td>\n",
       "      <td>6.5</td>\n",
       "      <td>1300.0</td>\n",
       "      <td>2015.0</td>\n",
       "    </tr>\n",
       "    <tr>\n",
       "      <th>5004</th>\n",
       "      <td>218238</td>\n",
       "      <td>Blinker</td>\n",
       "      <td>Blinker</td>\n",
       "      <td>en</td>\n",
       "      <td>A series of mysterious events and the pesterin...</td>\n",
       "      <td>NaN</td>\n",
       "      <td>0.0</td>\n",
       "      <td>0.0</td>\n",
       "      <td>90.0</td>\n",
       "      <td>1999-01-01</td>\n",
       "      <td>0.052350</td>\n",
       "      <td>6.0</td>\n",
       "      <td>1.0</td>\n",
       "      <td>1999.0</td>\n",
       "    </tr>\n",
       "    <tr>\n",
       "      <th>5005</th>\n",
       "      <td>47694</td>\n",
       "      <td>Temptress Moon</td>\n",
       "      <td>Feng yue</td>\n",
       "      <td>zh</td>\n",
       "      <td>Set in the decadent 1920s, Temptress Moon tell...</td>\n",
       "      <td>NaN</td>\n",
       "      <td>0.0</td>\n",
       "      <td>0.0</td>\n",
       "      <td>130.0</td>\n",
       "      <td>1996-05-09</td>\n",
       "      <td>1.136222</td>\n",
       "      <td>7.2</td>\n",
       "      <td>6.0</td>\n",
       "      <td>1996.0</td>\n",
       "    </tr>\n",
       "    <tr>\n",
       "      <th>5006</th>\n",
       "      <td>22968</td>\n",
       "      <td>Father's Little Dividend</td>\n",
       "      <td>Father's Little Dividend</td>\n",
       "      <td>en</td>\n",
       "      <td>In this sequel to Father of the Bride, newly m...</td>\n",
       "      <td>Funnier than \"Father of the Bride!\"</td>\n",
       "      <td>0.0</td>\n",
       "      <td>0.0</td>\n",
       "      <td>82.0</td>\n",
       "      <td>1951-04-12</td>\n",
       "      <td>1.325032</td>\n",
       "      <td>6.4</td>\n",
       "      <td>13.0</td>\n",
       "      <td>1951.0</td>\n",
       "    </tr>\n",
       "  </tbody>\n",
       "</table>\n",
       "<p>5007 rows × 14 columns</p>\n",
       "</div>"
      ],
      "text/plain": [
       "          id                     title            original_title  \\\n",
       "0     411405              Small Crimes              Small Crimes   \n",
       "1      42492            Up the Sandbox            Up the Sandbox   \n",
       "2      12143            Bad Lieutenant            Bad Lieutenant   \n",
       "3       9976     Satan's Little Helper     Satan's Little Helper   \n",
       "4      46761                    Sitcom                    Sitcom   \n",
       "...      ...                       ...                       ...   \n",
       "5002   16010                 Life Hits                    Råzone   \n",
       "5003  205775   In the Heart of the Sea   In the Heart of the Sea   \n",
       "5004  218238                   Blinker                   Blinker   \n",
       "5005   47694            Temptress Moon                  Feng yue   \n",
       "5006   22968  Father's Little Dividend  Father's Little Dividend   \n",
       "\n",
       "     original_language                                           overview  \\\n",
       "0                   en  A disgraced former cop, fresh off a six-year p...   \n",
       "1                   en  A young wife and mother, bored with day-to-day...   \n",
       "2                   en  While investigating a young nun's rape, a corr...   \n",
       "3                   en  A naïve young boy unknowingly becomes the pawn...   \n",
       "4                   fr  The adventures of an upper-class suburban fami...   \n",
       "...                ...                                                ...   \n",
       "5002                da  Christina is living in a suburb to Copenhagen....   \n",
       "5003                en  In the winter of 1820, the New England whaling...   \n",
       "5004                en  A series of mysterious events and the pesterin...   \n",
       "5005                zh  Set in the decadent 1920s, Temptress Moon tell...   \n",
       "5006                en  In this sequel to Father of the Bride, newly m...   \n",
       "\n",
       "                                                tagline       budget  \\\n",
       "0                                                   NaN          0.0   \n",
       "1                                                   NaN          0.0   \n",
       "2                  Gambler. Thief. Junkie. Killer. Cop.    1000000.0   \n",
       "3                             You'll laugh 'til you die          0.0   \n",
       "4                                                   NaN          0.0   \n",
       "...                                                 ...          ...   \n",
       "5002                                                NaN          0.0   \n",
       "5003  Based on the incredible true story that inspir...  100000000.0   \n",
       "5004                                                NaN          0.0   \n",
       "5005                                                NaN          0.0   \n",
       "5006                Funnier than \"Father of the Bride!\"          0.0   \n",
       "\n",
       "         revenue runtime release_date  popularity  vote_average  vote_count  \\\n",
       "0            0.0    95.0   2017-04-28    7.219022           5.8        55.0   \n",
       "1            0.0    97.0   1972-12-21    0.138450           7.3         2.0   \n",
       "2      2019469.0    96.0   1992-09-16    6.417037           6.9       162.0   \n",
       "3            0.0   100.0   2004-01-01    2.233189           5.0        42.0   \n",
       "4            0.0    80.0   1998-05-27    1.800582           6.4        27.0   \n",
       "...          ...     ...          ...         ...           ...         ...   \n",
       "5002         0.0    93.0   2006-07-03    0.509359           6.5         6.0   \n",
       "5003  93820758.0   122.0   2015-11-20   11.696923           6.5      1300.0   \n",
       "5004         0.0    90.0   1999-01-01    0.052350           6.0         1.0   \n",
       "5005         0.0   130.0   1996-05-09    1.136222           7.2         6.0   \n",
       "5006         0.0    82.0   1951-04-12    1.325032           6.4        13.0   \n",
       "\n",
       "      release_year  \n",
       "0           2017.0  \n",
       "1           1972.0  \n",
       "2           1992.0  \n",
       "3           2004.0  \n",
       "4           1998.0  \n",
       "...            ...  \n",
       "5002        2006.0  \n",
       "5003        2015.0  \n",
       "5004        1999.0  \n",
       "5005        1996.0  \n",
       "5006        1951.0  \n",
       "\n",
       "[5007 rows x 14 columns]"
      ]
     },
     "execution_count": 3772,
     "metadata": {},
     "output_type": "execute_result"
    }
   ],
   "source": [
    "df = pd.read_csv(path_csv, sep=',')\n",
    "df"
   ]
  },
  {
   "cell_type": "code",
   "execution_count": 3773,
   "id": "0647fbbc",
   "metadata": {},
   "outputs": [
    {
     "name": "stdout",
     "output_type": "stream",
     "text": [
      "<class 'pandas.core.frame.DataFrame'>\n",
      "RangeIndex: 5007 entries, 0 to 5006\n",
      "Data columns (total 14 columns):\n",
      " #   Column             Non-Null Count  Dtype  \n",
      "---  ------             --------------  -----  \n",
      " 0   id                 5007 non-null   int64  \n",
      " 1   title              5006 non-null   object \n",
      " 2   original_title     5007 non-null   object \n",
      " 3   original_language  5006 non-null   object \n",
      " 4   overview           4909 non-null   object \n",
      " 5   tagline            2248 non-null   object \n",
      " 6   budget             4766 non-null   object \n",
      " 7   revenue            4807 non-null   float64\n",
      " 8   runtime            4836 non-null   object \n",
      " 9   release_date       4893 non-null   object \n",
      " 10  popularity         5006 non-null   float64\n",
      " 11  vote_average       5006 non-null   float64\n",
      " 12  vote_count         5006 non-null   float64\n",
      " 13  release_year       4893 non-null   float64\n",
      "dtypes: float64(5), int64(1), object(8)\n",
      "memory usage: 547.8+ KB\n"
     ]
    }
   ],
   "source": [
    "df.info()"
   ]
  },
  {
   "cell_type": "markdown",
   "id": "b60e5a81",
   "metadata": {},
   "source": [
    "## Tratando dados duplicados"
   ]
  },
  {
   "cell_type": "markdown",
   "id": "e01e1f12",
   "metadata": {},
   "source": [
    "Removeremos os dados duplicados."
   ]
  },
  {
   "cell_type": "code",
   "execution_count": 3774,
   "id": "dc9f72a4",
   "metadata": {},
   "outputs": [
    {
     "data": {
      "text/plain": [
       "0       False\n",
       "1       False\n",
       "2       False\n",
       "3       False\n",
       "4       False\n",
       "        ...  \n",
       "5002     True\n",
       "5003     True\n",
       "5004     True\n",
       "5005     True\n",
       "5006     True\n",
       "Length: 5007, dtype: bool"
      ]
     },
     "execution_count": 3774,
     "metadata": {},
     "output_type": "execute_result"
    }
   ],
   "source": [
    "df.duplicated()"
   ]
  },
  {
   "cell_type": "code",
   "execution_count": 3775,
   "id": "fa4a45f7",
   "metadata": {},
   "outputs": [
    {
     "data": {
      "text/plain": [
       "6"
      ]
     },
     "execution_count": 3775,
     "metadata": {},
     "output_type": "execute_result"
    }
   ],
   "source": [
    "df.duplicated().sum()"
   ]
  },
  {
   "cell_type": "code",
   "execution_count": 3776,
   "id": "a46b16be",
   "metadata": {},
   "outputs": [],
   "source": [
    "df.drop_duplicates(inplace=True)"
   ]
  },
  {
   "cell_type": "code",
   "execution_count": 3777,
   "id": "0b8f56d9",
   "metadata": {},
   "outputs": [
    {
     "data": {
      "text/plain": [
       "0"
      ]
     },
     "execution_count": 3777,
     "metadata": {},
     "output_type": "execute_result"
    }
   ],
   "source": [
    "df.duplicated().sum()"
   ]
  },
  {
   "cell_type": "code",
   "execution_count": 3778,
   "id": "61dba3f4",
   "metadata": {},
   "outputs": [],
   "source": [
    "df_sem_duplicado = df.copy()"
   ]
  },
  {
   "cell_type": "markdown",
   "id": "c3e7676c",
   "metadata": {},
   "source": [
    "## Tratando dados ausentes"
   ]
  },
  {
   "cell_type": "code",
   "execution_count": 3779,
   "id": "c91bfa29",
   "metadata": {},
   "outputs": [
    {
     "data": {
      "text/plain": [
       "id                      0\n",
       "title                   1\n",
       "original_title          0\n",
       "original_language       1\n",
       "overview               98\n",
       "tagline              2756\n",
       "budget                241\n",
       "revenue               200\n",
       "runtime               171\n",
       "release_date          114\n",
       "popularity              1\n",
       "vote_average            1\n",
       "vote_count              1\n",
       "release_year          114\n",
       "dtype: int64"
      ]
     },
     "execution_count": 3779,
     "metadata": {},
     "output_type": "execute_result"
    }
   ],
   "source": [
    "df_sem_duplicado.isna().sum()"
   ]
  },
  {
   "cell_type": "markdown",
   "id": "e60db25b",
   "metadata": {},
   "source": [
    "Percebemos que a coluna `Tagline` contém mais de 50% dos registros como valores ausentes (`NaN`). Como essa coluna apenas informa uma frase promocional que é única para cada filme, ela não tem correlação com outras colunas e, já que, mais de 50% dos valores são `NaN`s, vamos retira-la do dataframe."
   ]
  },
  {
   "cell_type": "code",
   "execution_count": 3780,
   "id": "87d4f9d7",
   "metadata": {},
   "outputs": [],
   "source": [
    "df_sem_duplicado.drop(columns=['tagline'], inplace=True)"
   ]
  },
  {
   "cell_type": "code",
   "execution_count": 3781,
   "id": "69cdf161",
   "metadata": {},
   "outputs": [
    {
     "data": {
      "text/plain": [
       "Index(['id', 'title', 'original_title', 'original_language', 'overview',\n",
       "       'budget', 'revenue', 'runtime', 'release_date', 'popularity',\n",
       "       'vote_average', 'vote_count', 'release_year'],\n",
       "      dtype='object')"
      ]
     },
     "execution_count": 3781,
     "metadata": {},
     "output_type": "execute_result"
    }
   ],
   "source": [
    "df_sem_duplicado.columns"
   ]
  },
  {
   "cell_type": "markdown",
   "id": "4cd0de9a",
   "metadata": {},
   "source": [
    "Nas colunas `budget` e `revenue`, notamos que pelas insformações do dataframe a maior parte dos dados são iguais a `0.0` o que indica que os valores que são diferentes de `0.0` podem ser possíveis `outliers`. Logo, para essas colunas, iremos transformar os valores `NaN` em `0.0`. "
   ]
  },
  {
   "cell_type": "markdown",
   "id": "503b8644",
   "metadata": {},
   "source": [
    "Para a coluna `revenue`, temos:"
   ]
  },
  {
   "cell_type": "code",
   "execution_count": 3782,
   "id": "58da0926",
   "metadata": {},
   "outputs": [
    {
     "data": {
      "text/plain": [
       "0.03999200159968006"
      ]
     },
     "execution_count": 3782,
     "metadata": {},
     "output_type": "execute_result"
    }
   ],
   "source": [
    "media_nan_revenue = df_sem_duplicado['revenue'].isna().mean()\n",
    "media_nan_revenue"
   ]
  },
  {
   "cell_type": "code",
   "execution_count": 3783,
   "id": "7917f26c",
   "metadata": {},
   "outputs": [
    {
     "data": {
      "text/plain": [
       "0.8014397120575885"
      ]
     },
     "execution_count": 3783,
     "metadata": {},
     "output_type": "execute_result"
    }
   ],
   "source": [
    "media_zero_revenue = (df_sem_duplicado['revenue'] == 0.0).mean()\n",
    "media_zero_revenue"
   ]
  },
  {
   "cell_type": "code",
   "execution_count": 3784,
   "id": "386c5a1d",
   "metadata": {},
   "outputs": [],
   "source": [
    "df_sem_duplicado['revenue'] = df_sem_duplicado['revenue'].replace(np.nan, 0.0)"
   ]
  },
  {
   "cell_type": "code",
   "execution_count": 3785,
   "id": "005da4a9",
   "metadata": {},
   "outputs": [
    {
     "data": {
      "text/plain": [
       "0.0"
      ]
     },
     "execution_count": 3785,
     "metadata": {},
     "output_type": "execute_result"
    }
   ],
   "source": [
    "df_sem_duplicado['revenue'].isna().median()"
   ]
  },
  {
   "cell_type": "markdown",
   "id": "9600c18f",
   "metadata": {},
   "source": [
    "Para a coluna `budget` percebemos que ela está com o tipo `object` nas informações do dataframe. Então, primeiramente faremos a mudança de tipo para `float`. "
   ]
  },
  {
   "cell_type": "markdown",
   "id": "e5422a5a",
   "metadata": {},
   "source": [
    "A mudança direta para `float` gera um erro por causa da palavra `unknown` em alguns registros nessa coluna. Então substituiremos esse valor por `NaN` e após isso faremos a mudança de tipo para `float`."
   ]
  },
  {
   "cell_type": "code",
   "execution_count": 3786,
   "id": "1c9501e3",
   "metadata": {},
   "outputs": [],
   "source": [
    "df_sem_duplicado['budget'] = df_sem_duplicado['budget'].replace('unknown', np.nan)"
   ]
  },
  {
   "cell_type": "markdown",
   "id": "96f5f424",
   "metadata": {},
   "source": [
    "Mundando para `float`."
   ]
  },
  {
   "cell_type": "code",
   "execution_count": 3787,
   "id": "116cb861",
   "metadata": {},
   "outputs": [],
   "source": [
    "df_sem_duplicado['budget'] = df_sem_duplicado['budget'].astype(float)"
   ]
  },
  {
   "cell_type": "markdown",
   "id": "2e35ea06",
   "metadata": {},
   "source": [
    "Preenchendo os `NaN`s de `budget` com `0.0`."
   ]
  },
  {
   "cell_type": "code",
   "execution_count": 3788,
   "id": "4b1de0a5",
   "metadata": {},
   "outputs": [
    {
     "data": {
      "text/plain": [
       "0.06778644271145771"
      ]
     },
     "execution_count": 3788,
     "metadata": {},
     "output_type": "execute_result"
    }
   ],
   "source": [
    "media_nan_budget = df_sem_duplicado['budget'].isna().mean()\n",
    "media_nan_budget"
   ]
  },
  {
   "cell_type": "code",
   "execution_count": 3789,
   "id": "6756f606",
   "metadata": {},
   "outputs": [
    {
     "data": {
      "text/plain": [
       "0.7570485902819436"
      ]
     },
     "execution_count": 3789,
     "metadata": {},
     "output_type": "execute_result"
    }
   ],
   "source": [
    "media_zero_budget = (df_sem_duplicado['budget'] == 0.0).mean()\n",
    "media_zero_budget"
   ]
  },
  {
   "cell_type": "code",
   "execution_count": 3790,
   "id": "bf427b6d",
   "metadata": {},
   "outputs": [],
   "source": [
    "df_sem_duplicado['budget'] = df_sem_duplicado['budget'].replace(np.nan, 0.0)"
   ]
  },
  {
   "cell_type": "code",
   "execution_count": 3791,
   "id": "f9141266",
   "metadata": {},
   "outputs": [
    {
     "data": {
      "text/plain": [
       "0.0"
      ]
     },
     "execution_count": 3791,
     "metadata": {},
     "output_type": "execute_result"
    }
   ],
   "source": [
    "df_sem_duplicado['budget'].isna().mean()"
   ]
  },
  {
   "cell_type": "code",
   "execution_count": 3792,
   "id": "61c89a34",
   "metadata": {},
   "outputs": [
    {
     "data": {
      "text/html": [
       "<div>\n",
       "<style scoped>\n",
       "    .dataframe tbody tr th:only-of-type {\n",
       "        vertical-align: middle;\n",
       "    }\n",
       "\n",
       "    .dataframe tbody tr th {\n",
       "        vertical-align: top;\n",
       "    }\n",
       "\n",
       "    .dataframe thead th {\n",
       "        text-align: right;\n",
       "    }\n",
       "</style>\n",
       "<table border=\"1\" class=\"dataframe\">\n",
       "  <thead>\n",
       "    <tr style=\"text-align: right;\">\n",
       "      <th></th>\n",
       "      <th>id</th>\n",
       "      <th>budget</th>\n",
       "      <th>revenue</th>\n",
       "      <th>popularity</th>\n",
       "      <th>vote_average</th>\n",
       "      <th>vote_count</th>\n",
       "      <th>release_year</th>\n",
       "    </tr>\n",
       "  </thead>\n",
       "  <tbody>\n",
       "    <tr>\n",
       "      <th>count</th>\n",
       "      <td>5001.000000</td>\n",
       "      <td>5.001000e+03</td>\n",
       "      <td>5.001000e+03</td>\n",
       "      <td>5000.000000</td>\n",
       "      <td>5000.000000</td>\n",
       "      <td>5000.000000</td>\n",
       "      <td>4887.000000</td>\n",
       "    </tr>\n",
       "    <tr>\n",
       "      <th>mean</th>\n",
       "      <td>109172.770446</td>\n",
       "      <td>2.956474e+07</td>\n",
       "      <td>9.669093e+06</td>\n",
       "      <td>2.935516</td>\n",
       "      <td>5.607060</td>\n",
       "      <td>106.262800</td>\n",
       "      <td>1991.868426</td>\n",
       "    </tr>\n",
       "    <tr>\n",
       "      <th>std</th>\n",
       "      <td>112384.820066</td>\n",
       "      <td>1.435053e+09</td>\n",
       "      <td>5.401646e+07</td>\n",
       "      <td>8.936065</td>\n",
       "      <td>1.962822</td>\n",
       "      <td>460.395815</td>\n",
       "      <td>24.123312</td>\n",
       "    </tr>\n",
       "    <tr>\n",
       "      <th>min</th>\n",
       "      <td>13.000000</td>\n",
       "      <td>0.000000e+00</td>\n",
       "      <td>-5.000000e+04</td>\n",
       "      <td>0.000000</td>\n",
       "      <td>0.000000</td>\n",
       "      <td>0.000000</td>\n",
       "      <td>1891.000000</td>\n",
       "    </tr>\n",
       "    <tr>\n",
       "      <th>25%</th>\n",
       "      <td>27313.000000</td>\n",
       "      <td>0.000000e+00</td>\n",
       "      <td>0.000000e+00</td>\n",
       "      <td>0.376077</td>\n",
       "      <td>5.000000</td>\n",
       "      <td>3.000000</td>\n",
       "      <td>1978.000000</td>\n",
       "    </tr>\n",
       "    <tr>\n",
       "      <th>50%</th>\n",
       "      <td>60479.000000</td>\n",
       "      <td>0.000000e+00</td>\n",
       "      <td>0.000000e+00</td>\n",
       "      <td>1.097116</td>\n",
       "      <td>6.000000</td>\n",
       "      <td>10.000000</td>\n",
       "      <td>2001.000000</td>\n",
       "    </tr>\n",
       "    <tr>\n",
       "      <th>75%</th>\n",
       "      <td>156954.000000</td>\n",
       "      <td>0.000000e+00</td>\n",
       "      <td>0.000000e+00</td>\n",
       "      <td>3.580283</td>\n",
       "      <td>6.800000</td>\n",
       "      <td>34.000000</td>\n",
       "      <td>2010.000000</td>\n",
       "    </tr>\n",
       "    <tr>\n",
       "      <th>max</th>\n",
       "      <td>464207.000000</td>\n",
       "      <td>1.000000e+11</td>\n",
       "      <td>1.156731e+09</td>\n",
       "      <td>547.488298</td>\n",
       "      <td>10.000000</td>\n",
       "      <td>8670.000000</td>\n",
       "      <td>2018.000000</td>\n",
       "    </tr>\n",
       "  </tbody>\n",
       "</table>\n",
       "</div>"
      ],
      "text/plain": [
       "                  id        budget       revenue   popularity  vote_average  \\\n",
       "count    5001.000000  5.001000e+03  5.001000e+03  5000.000000   5000.000000   \n",
       "mean   109172.770446  2.956474e+07  9.669093e+06     2.935516      5.607060   \n",
       "std    112384.820066  1.435053e+09  5.401646e+07     8.936065      1.962822   \n",
       "min        13.000000  0.000000e+00 -5.000000e+04     0.000000      0.000000   \n",
       "25%     27313.000000  0.000000e+00  0.000000e+00     0.376077      5.000000   \n",
       "50%     60479.000000  0.000000e+00  0.000000e+00     1.097116      6.000000   \n",
       "75%    156954.000000  0.000000e+00  0.000000e+00     3.580283      6.800000   \n",
       "max    464207.000000  1.000000e+11  1.156731e+09   547.488298     10.000000   \n",
       "\n",
       "        vote_count  release_year  \n",
       "count  5000.000000   4887.000000  \n",
       "mean    106.262800   1991.868426  \n",
       "std     460.395815     24.123312  \n",
       "min       0.000000   1891.000000  \n",
       "25%       3.000000   1978.000000  \n",
       "50%      10.000000   2001.000000  \n",
       "75%      34.000000   2010.000000  \n",
       "max    8670.000000   2018.000000  "
      ]
     },
     "execution_count": 3792,
     "metadata": {},
     "output_type": "execute_result"
    }
   ],
   "source": [
    "df_sem_duplicado.describe()"
   ]
  },
  {
   "cell_type": "markdown",
   "id": "23e51d57",
   "metadata": {},
   "source": [
    "Para a coluna `runtime` subdtituiremos os `NaN`s pela a `madiana`, pois ela performa melhor com `outliers`."
   ]
  },
  {
   "cell_type": "code",
   "execution_count": 3793,
   "id": "e1d6df15",
   "metadata": {},
   "outputs": [
    {
     "data": {
      "text/plain": [
       "171"
      ]
     },
     "execution_count": 3793,
     "metadata": {},
     "output_type": "execute_result"
    }
   ],
   "source": [
    "df_sem_duplicado['runtime'].isna().sum()"
   ]
  },
  {
   "cell_type": "markdown",
   "id": "32f906e7",
   "metadata": {},
   "source": [
    "Ao transformarmos o tipo de `runtime` para `float` encontramos o problema de que existem registros com `min` de minutos após o número. Então, retiraremos o `min` primeiro antes de mudar para `float`."
   ]
  },
  {
   "cell_type": "code",
   "execution_count": 3794,
   "id": "1809a73c",
   "metadata": {},
   "outputs": [],
   "source": [
    "df_sem_duplicado['runtime'] = df_sem_duplicado['runtime'].str.replace('min', '', regex=False).str.strip()"
   ]
  },
  {
   "cell_type": "code",
   "execution_count": 3795,
   "id": "7f235460",
   "metadata": {},
   "outputs": [],
   "source": [
    "df_sem_duplicado['runtime'] = df_sem_duplicado['runtime'].astype(float)"
   ]
  },
  {
   "cell_type": "markdown",
   "id": "a5c5be3b",
   "metadata": {},
   "source": [
    "Agora substituiremos os valores `NaN` pela `mediana`,"
   ]
  },
  {
   "cell_type": "code",
   "execution_count": 3796,
   "id": "4b2a3055",
   "metadata": {},
   "outputs": [],
   "source": [
    "mediana_runtime = df_sem_duplicado['runtime'].median()\n",
    "df_sem_duplicado['runtime'] = df_sem_duplicado['runtime'].replace(np.nan, mediana_runtime)"
   ]
  },
  {
   "cell_type": "code",
   "execution_count": 3797,
   "id": "ab863357",
   "metadata": {},
   "outputs": [
    {
     "data": {
      "text/plain": [
       "0"
      ]
     },
     "execution_count": 3797,
     "metadata": {},
     "output_type": "execute_result"
    }
   ],
   "source": [
    "df_sem_duplicado['runtime'].isna().sum()"
   ]
  },
  {
   "cell_type": "markdown",
   "id": "ee754db2",
   "metadata": {},
   "source": [
    "Para as colunas `popularity`, `vote_average` e `vote_count`, substuiremos pela `média`, `média` e `mediana` respectivamente, já que, `popularity` e `vote_average` tem desvio padrão baixo (há indícios de poucos `outliers`). Já `vote_count` possui desvio padrão alto, ou seja, há indícios de mais `outliers` nessa coluna e então a `mediana` tem um melhor comportamento."
   ]
  },
  {
   "cell_type": "code",
   "execution_count": 3798,
   "id": "6fc79b43",
   "metadata": {},
   "outputs": [],
   "source": [
    "media_popularity = df_sem_duplicado['popularity'].mean()\n",
    "media_vote_average = df_sem_duplicado['vote_average'].mean()\n",
    "mediana_vote_count = df_sem_duplicado['vote_count'].median()"
   ]
  },
  {
   "cell_type": "code",
   "execution_count": 3799,
   "id": "ff3c7d0b",
   "metadata": {},
   "outputs": [],
   "source": [
    "df_sem_duplicado['popularity'] = df_sem_duplicado['popularity'].replace(np.nan, media_popularity)\n",
    "df_sem_duplicado['vote_average'] = df_sem_duplicado['vote_average'].replace(np.nan, media_vote_average)\n",
    "df_sem_duplicado['vote_count'] = df_sem_duplicado['vote_count'].replace(np.nan, mediana_vote_count)"
   ]
  },
  {
   "cell_type": "code",
   "execution_count": 3800,
   "id": "c72721e0",
   "metadata": {},
   "outputs": [
    {
     "data": {
      "text/plain": [
       "id                     0\n",
       "title                  1\n",
       "original_title         0\n",
       "original_language      1\n",
       "overview              98\n",
       "budget                 0\n",
       "revenue                0\n",
       "runtime                0\n",
       "release_date         114\n",
       "popularity             0\n",
       "vote_average           0\n",
       "vote_count             0\n",
       "release_year         114\n",
       "dtype: int64"
      ]
     },
     "execution_count": 3800,
     "metadata": {},
     "output_type": "execute_result"
    }
   ],
   "source": [
    "df_sem_duplicado.isna().sum()"
   ]
  },
  {
   "cell_type": "markdown",
   "id": "a50da2bb",
   "metadata": {},
   "source": [
    "Analisando o valor ausente da coluna `title` vemos que também existem valores ausentes em `release_date` e `release_year` e pela `overview` do filme conseguimos saber qual é o filme e preencher essas colunas."
   ]
  },
  {
   "cell_type": "code",
   "execution_count": 3801,
   "id": "1d431873",
   "metadata": {},
   "outputs": [
    {
     "data": {
      "text/html": [
       "<div>\n",
       "<style scoped>\n",
       "    .dataframe tbody tr th:only-of-type {\n",
       "        vertical-align: middle;\n",
       "    }\n",
       "\n",
       "    .dataframe tbody tr th {\n",
       "        vertical-align: top;\n",
       "    }\n",
       "\n",
       "    .dataframe thead th {\n",
       "        text-align: right;\n",
       "    }\n",
       "</style>\n",
       "<table border=\"1\" class=\"dataframe\">\n",
       "  <thead>\n",
       "    <tr style=\"text-align: right;\">\n",
       "      <th></th>\n",
       "      <th>id</th>\n",
       "      <th>title</th>\n",
       "      <th>original_title</th>\n",
       "      <th>original_language</th>\n",
       "      <th>overview</th>\n",
       "      <th>budget</th>\n",
       "      <th>revenue</th>\n",
       "      <th>runtime</th>\n",
       "      <th>release_date</th>\n",
       "      <th>popularity</th>\n",
       "      <th>vote_average</th>\n",
       "      <th>vote_count</th>\n",
       "      <th>release_year</th>\n",
       "    </tr>\n",
       "  </thead>\n",
       "  <tbody>\n",
       "    <tr>\n",
       "      <th>2474</th>\n",
       "      <td>122662</td>\n",
       "      <td>NaN</td>\n",
       "      <td>マルドゥック・スクランブル 排気</td>\n",
       "      <td>ja</td>\n",
       "      <td>Third film of the Mardock Scramble series.</td>\n",
       "      <td>0.0</td>\n",
       "      <td>0.0</td>\n",
       "      <td>94.0</td>\n",
       "      <td>NaN</td>\n",
       "      <td>2.935516</td>\n",
       "      <td>5.60706</td>\n",
       "      <td>10.0</td>\n",
       "      <td>NaN</td>\n",
       "    </tr>\n",
       "  </tbody>\n",
       "</table>\n",
       "</div>"
      ],
      "text/plain": [
       "          id title    original_title original_language  \\\n",
       "2474  122662   NaN  マルドゥック・スクランブル 排気                ja   \n",
       "\n",
       "                                        overview  budget  revenue  runtime  \\\n",
       "2474  Third film of the Mardock Scramble series.     0.0      0.0     94.0   \n",
       "\n",
       "     release_date  popularity  vote_average  vote_count  release_year  \n",
       "2474          NaN    2.935516       5.60706        10.0           NaN  "
      ]
     },
     "execution_count": 3801,
     "metadata": {},
     "output_type": "execute_result"
    }
   ],
   "source": [
    "df_sem_duplicado[df_sem_duplicado['title'].isna()]"
   ]
  },
  {
   "cell_type": "code",
   "execution_count": 3802,
   "id": "2fc8f762",
   "metadata": {},
   "outputs": [],
   "source": [
    "df_sem_duplicado['title'] = df_sem_duplicado['title'].astype(str)"
   ]
  },
  {
   "cell_type": "code",
   "execution_count": 3803,
   "id": "b4369947",
   "metadata": {},
   "outputs": [],
   "source": [
    "df_sem_duplicado.loc[2474, 'title'] = 'Mardock Scramble: The Third Exhaust'"
   ]
  },
  {
   "cell_type": "markdown",
   "id": "ae370d77",
   "metadata": {},
   "source": [
    "Agora vamos transforma a coluna `release_date` em `datetime` para inserir a data de lançamento do filme."
   ]
  },
  {
   "cell_type": "code",
   "execution_count": 3804,
   "id": "3d43c50d",
   "metadata": {},
   "outputs": [],
   "source": [
    "df_sem_duplicado['release_date'] = pd.to_datetime(df_sem_duplicado['release_date'], errors='coerce')"
   ]
  },
  {
   "cell_type": "code",
   "execution_count": 3805,
   "id": "cebe24e4",
   "metadata": {},
   "outputs": [],
   "source": [
    "df_sem_duplicado.loc[2474, 'release_date'] = pd.to_datetime('2012-09-29')\n",
    "df_sem_duplicado.loc[2474, 'release_year'] = 2012.0"
   ]
  },
  {
   "cell_type": "markdown",
   "id": "c4bea215",
   "metadata": {},
   "source": [
    "Inserimos todos os valores ausentes desse registro."
   ]
  },
  {
   "cell_type": "code",
   "execution_count": 3806,
   "id": "46430a39",
   "metadata": {},
   "outputs": [
    {
     "data": {
      "text/plain": [
       "id                                                       122662\n",
       "title                       Mardock Scramble: The Third Exhaust\n",
       "original_title                                 マルドゥック・スクランブル 排気\n",
       "original_language                                            ja\n",
       "overview             Third film of the Mardock Scramble series.\n",
       "budget                                                      0.0\n",
       "revenue                                                     0.0\n",
       "runtime                                                    94.0\n",
       "release_date                                2012-09-29 00:00:00\n",
       "popularity                                             2.935516\n",
       "vote_average                                            5.60706\n",
       "vote_count                                                 10.0\n",
       "release_year                                             2012.0\n",
       "Name: 2474, dtype: object"
      ]
     },
     "execution_count": 3806,
     "metadata": {},
     "output_type": "execute_result"
    }
   ],
   "source": [
    "df_sem_duplicado.loc[2474]"
   ]
  },
  {
   "cell_type": "markdown",
   "id": "4efae73a",
   "metadata": {},
   "source": [
    "Agora para a coluna `original_language` temos uma única coluna `NaN` que também conseguimos preenchela."
   ]
  },
  {
   "cell_type": "code",
   "execution_count": 3807,
   "id": "1b8c283e",
   "metadata": {},
   "outputs": [
    {
     "data": {
      "text/html": [
       "<div>\n",
       "<style scoped>\n",
       "    .dataframe tbody tr th:only-of-type {\n",
       "        vertical-align: middle;\n",
       "    }\n",
       "\n",
       "    .dataframe tbody tr th {\n",
       "        vertical-align: top;\n",
       "    }\n",
       "\n",
       "    .dataframe thead th {\n",
       "        text-align: right;\n",
       "    }\n",
       "</style>\n",
       "<table border=\"1\" class=\"dataframe\">\n",
       "  <thead>\n",
       "    <tr style=\"text-align: right;\">\n",
       "      <th></th>\n",
       "      <th>id</th>\n",
       "      <th>title</th>\n",
       "      <th>original_title</th>\n",
       "      <th>original_language</th>\n",
       "      <th>overview</th>\n",
       "      <th>budget</th>\n",
       "      <th>revenue</th>\n",
       "      <th>runtime</th>\n",
       "      <th>release_date</th>\n",
       "      <th>popularity</th>\n",
       "      <th>vote_average</th>\n",
       "      <th>vote_count</th>\n",
       "      <th>release_year</th>\n",
       "    </tr>\n",
       "  </thead>\n",
       "  <tbody>\n",
       "    <tr>\n",
       "      <th>4946</th>\n",
       "      <td>381096</td>\n",
       "      <td>Yarn</td>\n",
       "      <td>Garn</td>\n",
       "      <td>NaN</td>\n",
       "      <td>The traditional crafts of crochet and knitting...</td>\n",
       "      <td>0.0</td>\n",
       "      <td>0.0</td>\n",
       "      <td>76.0</td>\n",
       "      <td>2016-03-12</td>\n",
       "      <td>0.067624</td>\n",
       "      <td>0.0</td>\n",
       "      <td>0.0</td>\n",
       "      <td>2016.0</td>\n",
       "    </tr>\n",
       "  </tbody>\n",
       "</table>\n",
       "</div>"
      ],
      "text/plain": [
       "          id title original_title original_language  \\\n",
       "4946  381096  Yarn           Garn               NaN   \n",
       "\n",
       "                                               overview  budget  revenue  \\\n",
       "4946  The traditional crafts of crochet and knitting...     0.0      0.0   \n",
       "\n",
       "      runtime release_date  popularity  vote_average  vote_count  release_year  \n",
       "4946     76.0   2016-03-12    0.067624           0.0         0.0        2016.0  "
      ]
     },
     "execution_count": 3807,
     "metadata": {},
     "output_type": "execute_result"
    }
   ],
   "source": [
    "df_sem_duplicado[df_sem_duplicado['original_language'].isna()]"
   ]
  },
  {
   "cell_type": "code",
   "execution_count": 3808,
   "id": "be6b8596",
   "metadata": {},
   "outputs": [
    {
     "data": {
      "text/plain": [
       "array(['en', 'fr', 'nl', 'it', 'ko', 'hi', 'ja', 'cs', 'cn', 'tr', 'sv',\n",
       "       'de', 'ta', 'English', 'ingles', 'EN', 'zh', 'is', 'hr', 'el',\n",
       "       'pt', 'ml', 'ar', 'ru', 'sr', 'fi', 'th', 'fa', 'ur', 'da', 'es',\n",
       "       'iu', 'pl', 'hu', 'lv', 'mk', 'et', 'vi', 'ro', 'tl', 'no', 'mn',\n",
       "       'he', 'bg', 'uk', 'xx', 'pa', 'mr', 'ca', 'id', 'nb', 'uz', 'sk',\n",
       "       'sl', 'sq', 'te', 'ka', 'ay', 'ps', 'ms', 'bn', nan], dtype=object)"
      ]
     },
     "execution_count": 3808,
     "metadata": {},
     "output_type": "execute_result"
    }
   ],
   "source": [
    "df_sem_duplicado['original_language'].unique()"
   ]
  },
  {
   "cell_type": "code",
   "execution_count": 3809,
   "id": "e2e2ba57",
   "metadata": {},
   "outputs": [],
   "source": [
    "df_sem_duplicado['original_language'] = df_sem_duplicado['original_language'].replace(['English', 'ingles', 'EN'], 'en')"
   ]
  },
  {
   "cell_type": "code",
   "execution_count": 3810,
   "id": "311f3423",
   "metadata": {},
   "outputs": [
    {
     "data": {
      "text/plain": [
       "array(['en', 'fr', 'nl', 'it', 'ko', 'hi', 'ja', 'cs', 'cn', 'tr', 'sv',\n",
       "       'de', 'ta', 'zh', 'is', 'hr', 'el', 'pt', 'ml', 'ar', 'ru', 'sr',\n",
       "       'fi', 'th', 'fa', 'ur', 'da', 'es', 'iu', 'pl', 'hu', 'lv', 'mk',\n",
       "       'et', 'vi', 'ro', 'tl', 'no', 'mn', 'he', 'bg', 'uk', 'xx', 'pa',\n",
       "       'mr', 'ca', 'id', 'nb', 'uz', 'sk', 'sl', 'sq', 'te', 'ka', 'ay',\n",
       "       'ps', 'ms', 'bn', nan], dtype=object)"
      ]
     },
     "execution_count": 3810,
     "metadata": {},
     "output_type": "execute_result"
    }
   ],
   "source": [
    "df_sem_duplicado['original_language'].unique()"
   ]
  },
  {
   "cell_type": "markdown",
   "id": "db39f6ef",
   "metadata": {},
   "source": [
    "Preenchendo o idioma faltante em `original_language`."
   ]
  },
  {
   "cell_type": "code",
   "execution_count": 3811,
   "id": "d70c1763",
   "metadata": {},
   "outputs": [],
   "source": [
    "df_sem_duplicado.loc[4946, 'original_language'] = 'en'"
   ]
  },
  {
   "cell_type": "code",
   "execution_count": 3812,
   "id": "c3b548f1",
   "metadata": {},
   "outputs": [
    {
     "data": {
      "text/plain": [
       "id                                                              381096\n",
       "title                                                             Yarn\n",
       "original_title                                                    Garn\n",
       "original_language                                                   en\n",
       "overview             The traditional crafts of crochet and knitting...\n",
       "budget                                                             0.0\n",
       "revenue                                                            0.0\n",
       "runtime                                                           76.0\n",
       "release_date                                       2016-03-12 00:00:00\n",
       "popularity                                                    0.067624\n",
       "vote_average                                                       0.0\n",
       "vote_count                                                         0.0\n",
       "release_year                                                    2016.0\n",
       "Name: 4946, dtype: object"
      ]
     },
     "execution_count": 3812,
     "metadata": {},
     "output_type": "execute_result"
    }
   ],
   "source": [
    "df_sem_duplicado.loc[4946]"
   ]
  },
  {
   "cell_type": "markdown",
   "id": "4e15c4b6",
   "metadata": {},
   "source": [
    "Para as colunas `overview`, `release_date` e `release_year` não conseguimos inferir seus valores e por enquanto não alteraremos em nada nessas colunas."
   ]
  },
  {
   "cell_type": "code",
   "execution_count": 3813,
   "id": "c0a0b6cc",
   "metadata": {},
   "outputs": [
    {
     "name": "stdout",
     "output_type": "stream",
     "text": [
      "<class 'pandas.core.frame.DataFrame'>\n",
      "Index: 5001 entries, 0 to 5001\n",
      "Data columns (total 13 columns):\n",
      " #   Column             Non-Null Count  Dtype         \n",
      "---  ------             --------------  -----         \n",
      " 0   id                 5001 non-null   int64         \n",
      " 1   title              5001 non-null   object        \n",
      " 2   original_title     5001 non-null   object        \n",
      " 3   original_language  5001 non-null   object        \n",
      " 4   overview           4903 non-null   object        \n",
      " 5   budget             5001 non-null   float64       \n",
      " 6   revenue            5001 non-null   float64       \n",
      " 7   runtime            5001 non-null   float64       \n",
      " 8   release_date       4792 non-null   datetime64[ns]\n",
      " 9   popularity         5001 non-null   float64       \n",
      " 10  vote_average       5001 non-null   float64       \n",
      " 11  vote_count         5001 non-null   float64       \n",
      " 12  release_year       4888 non-null   float64       \n",
      "dtypes: datetime64[ns](1), float64(7), int64(1), object(4)\n",
      "memory usage: 676.0+ KB\n"
     ]
    }
   ],
   "source": [
    "df_sem_duplicado.info()"
   ]
  },
  {
   "cell_type": "code",
   "execution_count": 3814,
   "id": "cff69591",
   "metadata": {},
   "outputs": [],
   "source": [
    "df_limpo = df_sem_duplicado.copy()"
   ]
  },
  {
   "cell_type": "code",
   "execution_count": 3815,
   "id": "4926773b",
   "metadata": {},
   "outputs": [
    {
     "name": "stdout",
     "output_type": "stream",
     "text": [
      "<class 'pandas.core.frame.DataFrame'>\n",
      "Index: 5001 entries, 0 to 5001\n",
      "Data columns (total 13 columns):\n",
      " #   Column             Non-Null Count  Dtype         \n",
      "---  ------             --------------  -----         \n",
      " 0   id                 5001 non-null   int64         \n",
      " 1   title              5001 non-null   object        \n",
      " 2   original_title     5001 non-null   object        \n",
      " 3   original_language  5001 non-null   object        \n",
      " 4   overview           4903 non-null   object        \n",
      " 5   budget             5001 non-null   float64       \n",
      " 6   revenue            5001 non-null   float64       \n",
      " 7   runtime            5001 non-null   float64       \n",
      " 8   release_date       4792 non-null   datetime64[ns]\n",
      " 9   popularity         5001 non-null   float64       \n",
      " 10  vote_average       5001 non-null   float64       \n",
      " 11  vote_count         5001 non-null   float64       \n",
      " 12  release_year       4888 non-null   float64       \n",
      "dtypes: datetime64[ns](1), float64(7), int64(1), object(4)\n",
      "memory usage: 676.0+ KB\n"
     ]
    }
   ],
   "source": [
    "df_limpo.info()"
   ]
  },
  {
   "cell_type": "markdown",
   "id": "8b24117e",
   "metadata": {},
   "source": [
    "## Salvando o dataset"
   ]
  },
  {
   "cell_type": "code",
   "execution_count": 3816,
   "id": "571b4131",
   "metadata": {},
   "outputs": [],
   "source": [
    "df_limpo.to_csv('../data/processed/filmes_limpos.csv', index=False)"
   ]
  }
 ],
 "metadata": {
  "language_info": {
   "name": "python"
  }
 },
 "nbformat": 4,
 "nbformat_minor": 5
}
